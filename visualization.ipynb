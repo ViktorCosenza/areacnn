{
 "cells": [
  {
   "cell_type": "code",
   "execution_count": 16,
   "metadata": {},
   "outputs": [],
   "source": [
    "import pandas as pd\n",
    "import numpy as np\n",
    "from matplotlib import pyplot as plt\n",
    "\n",
    "from os import path"
   ]
  },
  {
   "cell_type": "markdown",
   "metadata": {},
   "source": [
    "## Count number of pixels task"
   ]
  },
  {
   "cell_type": "code",
   "execution_count": 17,
   "metadata": {},
   "outputs": [
    {
     "data": {
      "text/html": [
       "<div>\n",
       "<style scoped>\n",
       "    .dataframe tbody tr th:only-of-type {\n",
       "        vertical-align: middle;\n",
       "    }\n",
       "\n",
       "    .dataframe tbody tr th {\n",
       "        vertical-align: top;\n",
       "    }\n",
       "\n",
       "    .dataframe thead th {\n",
       "        text-align: right;\n",
       "    }\n",
       "</style>\n",
       "<table border=\"1\" class=\"dataframe\">\n",
       "  <thead>\n",
       "    <tr style=\"text-align: right;\">\n",
       "      <th></th>\n",
       "      <th>epoch</th>\n",
       "      <th>train_loss</th>\n",
       "      <th>valid_loss</th>\n",
       "      <th>mean_squared_error</th>\n",
       "      <th>mean_absolute_error</th>\n",
       "      <th>time</th>\n",
       "    </tr>\n",
       "  </thead>\n",
       "  <tbody>\n",
       "    <tr>\n",
       "      <th>0</th>\n",
       "      <td>0</td>\n",
       "      <td>0.012937</td>\n",
       "      <td>0.010834</td>\n",
       "      <td>0.010834</td>\n",
       "      <td>0.071581</td>\n",
       "      <td>00:10</td>\n",
       "    </tr>\n",
       "    <tr>\n",
       "      <th>1</th>\n",
       "      <td>1</td>\n",
       "      <td>0.013838</td>\n",
       "      <td>0.011516</td>\n",
       "      <td>0.011516</td>\n",
       "      <td>0.073193</td>\n",
       "      <td>00:10</td>\n",
       "    </tr>\n",
       "    <tr>\n",
       "      <th>2</th>\n",
       "      <td>2</td>\n",
       "      <td>0.012853</td>\n",
       "      <td>0.011951</td>\n",
       "      <td>0.011951</td>\n",
       "      <td>0.074784</td>\n",
       "      <td>00:10</td>\n",
       "    </tr>\n",
       "    <tr>\n",
       "      <th>3</th>\n",
       "      <td>3</td>\n",
       "      <td>0.011701</td>\n",
       "      <td>0.013645</td>\n",
       "      <td>0.013645</td>\n",
       "      <td>0.079865</td>\n",
       "      <td>00:10</td>\n",
       "    </tr>\n",
       "    <tr>\n",
       "      <th>4</th>\n",
       "      <td>4</td>\n",
       "      <td>0.013253</td>\n",
       "      <td>0.012823</td>\n",
       "      <td>0.012823</td>\n",
       "      <td>0.078446</td>\n",
       "      <td>00:10</td>\n",
       "    </tr>\n",
       "  </tbody>\n",
       "</table>\n",
       "</div>"
      ],
      "text/plain": [
       "   epoch  train_loss  valid_loss  mean_squared_error  mean_absolute_error  \\\n",
       "0      0    0.012937    0.010834            0.010834             0.071581   \n",
       "1      1    0.013838    0.011516            0.011516             0.073193   \n",
       "2      2    0.012853    0.011951            0.011951             0.074784   \n",
       "3      3    0.011701    0.013645            0.013645             0.079865   \n",
       "4      4    0.013253    0.012823            0.012823             0.078446   \n",
       "\n",
       "    time  \n",
       "0  00:10  \n",
       "1  00:10  \n",
       "2  00:10  \n",
       "3  00:10  \n",
       "4  00:10  "
      ]
     },
     "execution_count": 17,
     "metadata": {},
     "output_type": "execute_result"
    }
   ],
   "source": [
    "ROOT_DIR = './polygon_data/results'\n",
    "AVG_FILE = 'avg_pool/history_avg_pool.csv'\n",
    "MAX_FILE = 'max_pool/history_max_pool.csv'\n",
    "SUM_FILE = 'sum_pool/history_sum_pool.csv'\n",
    "MLP_FILE = 'mlp/history_mlp.csv'\n",
    "\n",
    "df_avg = pd.read_csv(path.join(ROOT_DIR, AVG_FILE))\n",
    "df_max = pd.read_csv(path.join(ROOT_DIR, MAX_FILE))\n",
    "df_sum = pd.read_csv(path.join(ROOT_DIR, SUM_FILE))\n",
    "df_mlp = pd.read_csv(path.join(ROOT_DIR, MLP_FILE))\n",
    "\n",
    "df_mlp.head()"
   ]
  },
  {
   "cell_type": "code",
   "execution_count": 18,
   "metadata": {},
   "outputs": [
    {
     "data": {
      "image/png": "[encoded data removed]",
      "text/plain": [
       "<Figure size 432x288 with 1 Axes>"
      ]
     },
     "metadata": {
      "needs_background": "light"
     },
     "output_type": "display_data"
    }
   ],
   "source": [
    "metric = \"mean_absolute_error\"\n",
    "\n",
    "plt.plot(df_avg[[metric]], '-og', label=\"avg\")\n",
    "plt.plot(df_max[[metric]], '-or', label=\"max\")\n",
    "plt.plot(df_sum[[metric]], '-oy', label=\"sum\")\n",
    "plt.plot(df_mlp[[metric]], '-oc', label=\"mlp\")\n",
    "\n",
    "plt.legend()\n",
    "plt.xlabel(\"Epoch\")\n",
    "plt.ylabel(metric)\n",
    "plt.title(\"Task: Count number of pixels\")\n",
    "plt.show()"
   ]
  },
  {
   "cell_type": "markdown",
   "metadata": {},
   "source": [
    "## Calculate area percentage (Covered/Total)"
   ]
  },
  {
   "cell_type": "code",
   "execution_count": 19,
   "metadata": {},
   "outputs": [
    {
     "data": {
      "text/html": [
       "<div>\n",
       "<style scoped>\n",
       "    .dataframe tbody tr th:only-of-type {\n",
       "        vertical-align: middle;\n",
       "    }\n",
       "\n",
       "    .dataframe tbody tr th {\n",
       "        vertical-align: top;\n",
       "    }\n",
       "\n",
       "    .dataframe thead th {\n",
       "        text-align: right;\n",
       "    }\n",
       "</style>\n",
       "<table border=\"1\" class=\"dataframe\">\n",
       "  <thead>\n",
       "    <tr style=\"text-align: right;\">\n",
       "      <th></th>\n",
       "      <th>epoch</th>\n",
       "      <th>train_loss</th>\n",
       "      <th>valid_loss</th>\n",
       "      <th>mean_squared_error</th>\n",
       "      <th>mean_absolute_error</th>\n",
       "      <th>time</th>\n",
       "    </tr>\n",
       "  </thead>\n",
       "  <tbody>\n",
       "    <tr>\n",
       "      <th>0</th>\n",
       "      <td>0</td>\n",
       "      <td>868523968.0</td>\n",
       "      <td>854197248.0</td>\n",
       "      <td>854197184.0</td>\n",
       "      <td>16269.942383</td>\n",
       "      <td>00:10</td>\n",
       "    </tr>\n",
       "    <tr>\n",
       "      <th>1</th>\n",
       "      <td>1</td>\n",
       "      <td>805591168.0</td>\n",
       "      <td>844752256.0</td>\n",
       "      <td>844752384.0</td>\n",
       "      <td>16015.143555</td>\n",
       "      <td>00:10</td>\n",
       "    </tr>\n",
       "    <tr>\n",
       "      <th>2</th>\n",
       "      <td>2</td>\n",
       "      <td>849108736.0</td>\n",
       "      <td>827841600.0</td>\n",
       "      <td>827841664.0</td>\n",
       "      <td>15637.043945</td>\n",
       "      <td>00:10</td>\n",
       "    </tr>\n",
       "    <tr>\n",
       "      <th>3</th>\n",
       "      <td>3</td>\n",
       "      <td>782779968.0</td>\n",
       "      <td>808012544.0</td>\n",
       "      <td>808012544.0</td>\n",
       "      <td>15269.601562</td>\n",
       "      <td>00:10</td>\n",
       "    </tr>\n",
       "    <tr>\n",
       "      <th>4</th>\n",
       "      <td>4</td>\n",
       "      <td>754057472.0</td>\n",
       "      <td>785569920.0</td>\n",
       "      <td>785569984.0</td>\n",
       "      <td>14919.057617</td>\n",
       "      <td>00:10</td>\n",
       "    </tr>\n",
       "  </tbody>\n",
       "</table>\n",
       "</div>"
      ],
      "text/plain": [
       "   epoch   train_loss   valid_loss  mean_squared_error  mean_absolute_error  \\\n",
       "0      0  868523968.0  854197248.0         854197184.0         16269.942383   \n",
       "1      1  805591168.0  844752256.0         844752384.0         16015.143555   \n",
       "2      2  849108736.0  827841600.0         827841664.0         15637.043945   \n",
       "3      3  782779968.0  808012544.0         808012544.0         15269.601562   \n",
       "4      4  754057472.0  785569920.0         785569984.0         14919.057617   \n",
       "\n",
       "    time  \n",
       "0  00:10  \n",
       "1  00:10  \n",
       "2  00:10  \n",
       "3  00:10  \n",
       "4  00:10  "
      ]
     },
     "execution_count": 19,
     "metadata": {},
     "output_type": "execute_result"
    }
   ],
   "source": [
    "ROOT_DIR = './polygon_data_counts/results'\n",
    "\n",
    "df_avg = pd.read_csv(path.join(ROOT_DIR, AVG_FILE))\n",
    "df_max = pd.read_csv(path.join(ROOT_DIR, MAX_FILE))\n",
    "df_sum = pd.read_csv(path.join(ROOT_DIR, SUM_FILE))\n",
    "df_avg.head()"
   ]
  },
  {
   "cell_type": "code",
   "execution_count": 20,
   "metadata": {},
   "outputs": [
    {
     "data": {
      "image/png": "[encoded data removed]",
      "text/plain": [
       "<Figure size 432x288 with 1 Axes>"
      ]
     },
     "metadata": {
      "needs_background": "light"
     },
     "output_type": "display_data"
    }
   ],
   "source": [
    "plt.plot(df_avg[[metric]], '-og', label=\"avg\")\n",
    "plt.plot(df_max[[metric]], '-or', label=\"max\")\n",
    "plt.plot(df_sum[[metric]], '-oy', label=\"sum\")\n",
    "plt.plot(df_mlp[[metric]], '-oc', label=\"sum\")\n",
    "\n",
    "\n",
    "plt.legend()\n",
    "plt.xlabel(\"Epoch\")\n",
    "plt.ylabel(metric)\n",
    "plt.title(\"Task: Estimate area percentage\")\n",
    "plt.show()"
   ]
  },
  {
   "cell_type": "code",
   "execution_count": null,
   "metadata": {},
   "outputs": [],
   "source": []
  },
  {
   "cell_type": "code",
   "execution_count": null,
   "metadata": {},
   "outputs": [],
   "source": []
  }
 ],
 "metadata": {
  "kernelspec": {
   "display_name": "Python 3",
   "language": "python",
   "name": "python3"
  },
  "language_info": {
   "codemirror_mode": {
    "name": "ipython",
    "version": 3
   },
   "file_extension": ".py",
   "mimetype": "text/x-python",
   "name": "python",
   "nbconvert_exporter": "python",
   "pygments_lexer": "ipython3",
   "version": "3.6.8"
  }
 },
 "nbformat": 4,
 "nbformat_minor": 4
}
