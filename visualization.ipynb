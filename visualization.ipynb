{
 "cells": [
  {
   "cell_type": "code",
   "execution_count": null,
   "metadata": {},
   "outputs": [],
   "source": [
    "import pandas as pd\n",
    "import numpy as np\n",
    "from matplotlib import pyplot as plt\n",
    "\n",
    "from os import path"
   ]
  },
  {
   "cell_type": "code",
   "execution_count": 103,
   "metadata": {},
   "outputs": [
    {
     "name": "stdout",
     "output_type": "stream",
     "text": [
      "      model_name        dataset optim  loss_fn  val_losses  epoch  \\\n",
      "4208  SUM_POOL_4  ELLIPSE_COUNT   SGD  MSELOSS  31812040.0      8   \n",
      "4209  SUM_POOL_4  ELLIPSE_COUNT   SGD  MSELOSS         inf      9   \n",
      "\n",
      "      train_losses  \n",
      "4208  4.205298e+07  \n",
      "4209  1.793525e+30  \n"
     ]
    }
   ],
   "source": [
    "indexes = [\n",
    "    \"model_name\",\n",
    "    \"dataset\",\n",
    "    \"optim\",\n",
    "    \"loss_fn\"\n",
    "]\n",
    "\n",
    "def plot_dataset(df):\n",
    "    df = df.groupby(indexes)\n",
    "    for gaa in df.groups:\n",
    "        gaa = df.get_group(gaa)\n",
    "        \n",
    "                    \n",
    "\n",
    "for g in df.groups:\n",
    "    g = df.get_group(g)\n",
    "    plot_dataset(g)\n",
    "    break"
   ]
  },
  {
   "cell_type": "code",
   "execution_count": 111,
   "metadata": {},
   "outputs": [
    {
     "data": {
      "text/html": [
       "<div>\n",
       "<style scoped>\n",
       "    .dataframe tbody tr th:only-of-type {\n",
       "        vertical-align: middle;\n",
       "    }\n",
       "\n",
       "    .dataframe tbody tr th {\n",
       "        vertical-align: top;\n",
       "    }\n",
       "\n",
       "    .dataframe thead th {\n",
       "        text-align: right;\n",
       "    }\n",
       "</style>\n",
       "<table border=\"1\" class=\"dataframe\">\n",
       "  <thead>\n",
       "    <tr style=\"text-align: right;\">\n",
       "      <th></th>\n",
       "      <th>model_name</th>\n",
       "      <th>dataset</th>\n",
       "      <th>optim</th>\n",
       "      <th>loss_fn</th>\n",
       "      <th>val_losses</th>\n",
       "      <th>epoch</th>\n",
       "      <th>train_losses</th>\n",
       "    </tr>\n",
       "  </thead>\n",
       "  <tbody>\n",
       "    <tr>\n",
       "      <th>4208</th>\n",
       "      <td>SUM_POOL_4</td>\n",
       "      <td>ELLIPSE_COUNT</td>\n",
       "      <td>SGD</td>\n",
       "      <td>MSELOSS</td>\n",
       "      <td>31812040.0</td>\n",
       "      <td>8</td>\n",
       "      <td>4.205298e+07</td>\n",
       "    </tr>\n",
       "    <tr>\n",
       "      <th>4209</th>\n",
       "      <td>SUM_POOL_4</td>\n",
       "      <td>ELLIPSE_COUNT</td>\n",
       "      <td>SGD</td>\n",
       "      <td>MSELOSS</td>\n",
       "      <td>inf</td>\n",
       "      <td>9</td>\n",
       "      <td>1.793525e+30</td>\n",
       "    </tr>\n",
       "  </tbody>\n",
       "</table>\n",
       "</div>"
      ],
      "text/plain": [
       "      model_name        dataset optim  loss_fn  val_losses  epoch  \\\n",
       "4208  SUM_POOL_4  ELLIPSE_COUNT   SGD  MSELOSS  31812040.0      8   \n",
       "4209  SUM_POOL_4  ELLIPSE_COUNT   SGD  MSELOSS         inf      9   \n",
       "\n",
       "      train_losses  \n",
       "4208  4.205298e+07  \n",
       "4209  1.793525e+30  "
      ]
     },
     "execution_count": 111,
     "metadata": {},
     "output_type": "execute_result"
    }
   ],
   "source": [
    "df = pd.read_csv('FULL_RESULTS.csv')\n",
    "#df = df.groupby(by=\"dataset\")\n",
    "df = df[df[\"model_name\"] == \"SUM_POOL_4\"]\n",
    "df = df[df[\"dataset\"] == \"ELLIPSE_COUNT\"]\n",
    "df = df[df[\"optim\"] == \"SGD\"]\n",
    "df[df[\"loss_fn\"] == \"MSELOSS\"]"
   ]
  },
  {
   "cell_type": "code",
   "execution_count": null,
   "metadata": {},
   "outputs": [],
   "source": []
  }
 ],
 "metadata": {
  "kernelspec": {
   "display_name": "Python 3",
   "language": "python",
   "name": "python3"
  },
  "language_info": {
   "codemirror_mode": {
    "name": "ipython",
    "version": 3
   },
   "file_extension": ".py",
   "mimetype": "text/x-python",
   "name": "python",
   "nbconvert_exporter": "python",
   "pygments_lexer": "ipython3",
   "version": "3.6.8"
  }
 },
 "nbformat": 4,
 "nbformat_minor": 4
}
