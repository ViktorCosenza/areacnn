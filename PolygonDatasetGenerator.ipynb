{
 "cells": [
  {
   "cell_type": "code",
   "execution_count": 1,
   "metadata": {},
   "outputs": [],
   "source": [
    "from tqdm import tqdm\n",
    "from os import path\n",
    "\n",
    "## Local Imports ##\n",
    "from datasets import helpers as dataset_helpers"
   ]
  },
  {
   "cell_type": "markdown",
   "metadata": {
    "colab_type": "text",
    "id": "QLVyf1-umCV2"
   },
   "source": [
    "## Dataset"
   ]
  },
  {
   "cell_type": "code",
   "execution_count": 2,
   "metadata": {},
   "outputs": [
    {
     "name": "stdout",
     "output_type": "stream",
     "text": [
      "Created directory /home/victor/Git/areacnn/data/polygon_data_counts/train\n",
      "Created directory /home/victor/Git/areacnn/data/polygon_data_counts/train/images\n",
      "Created directory /home/victor/Git/areacnn/data/polygon_data_counts/test\n",
      "Created directory /home/victor/Git/areacnn/data/polygon_data_counts/test/images\n",
      "Created directory /home/victor/Git/areacnn/data/polygon_data_percentage/train\n",
      "Created directory /home/victor/Git/areacnn/data/polygon_data_percentage/train/images\n",
      "Created directory /home/victor/Git/areacnn/data/polygon_data_percentage/test\n",
      "Created directory /home/victor/Git/areacnn/data/polygon_data_percentage/test/images\n",
      "Created directory /home/victor/Git/areacnn/data/ellipse_data_counts/train\n",
      "Created directory /home/victor/Git/areacnn/data/ellipse_data_counts/train/images\n",
      "Created directory /home/victor/Git/areacnn/data/ellipse_data_counts/test\n",
      "Created directory /home/victor/Git/areacnn/data/ellipse_data_counts/test/images\n",
      "Created directory /home/victor/Git/areacnn/data/ellipse_data_percentage/train\n",
      "Created directory /home/victor/Git/areacnn/data/ellipse_data_percentage/train/images\n",
      "Created directory /home/victor/Git/areacnn/data/ellipse_data_percentage/test\n",
      "Created directory /home/victor/Git/areacnn/data/ellipse_data_percentage/test/images\n"
     ]
    }
   ],
   "source": [
    "DT_LEN = 15000\n",
    "ROOT_DIR = 'data'\n",
    "W, H = 256, 256\n",
    "\n",
    "DATASETS = [\n",
    "        {\"root_dir\": path.join(ROOT_DIR, \"polygon_data_counts\"), \"count\": True, \"skip\": False},\n",
    "        {\"root_dir\": path.join(ROOT_DIR, \"polygon_data_percentage\"), \"count\": False, \"skip\": False},\n",
    "        {\"root_dir\": path.join(ROOT_DIR, \"ellipse_data_counts\"), \"count\": True, \"skip\": False, \"draw_polygon_fn\":dataset_helpers.draw_ellipse},\n",
    "        {\"root_dir\": path.join(ROOT_DIR, \"ellipse_data_percentage\"), \"count\": False, \"skip\": False, \"draw_polygon_fn\":dataset_helpers.draw_ellipse}\n",
    "    ]\n",
    "\n",
    "for dataset in tqdm(DATASETS):\n",
    "    df_train = dataset_helpers.gen_df(dt_len=DT_LEN, test=False, img_size=(W, H), **dataset)\n",
    "    df_test  = dataset_helpers.gen_df(dt_len=DT_LEN//2, test=True, img_size=(W, H), **dataset)\n",
    "print(\"DONE!\")"
   ]
  }
 ],
 "metadata": {
  "accelerator": "GPU",
  "colab": {
   "collapsed_sections": [],
   "machine_shape": "hm",
   "name": "PolygonDatasetGenerator.ipynb",
   "provenance": []
  },
  "kernelspec": {
   "display_name": "Python 3",
   "language": "python",
   "name": "python3"
  },
  "language_info": {
   "codemirror_mode": {
    "name": "ipython",
    "version": 3
   },
   "file_extension": ".py",
   "mimetype": "text/x-python",
   "name": "python",
   "nbconvert_exporter": "python",
   "pygments_lexer": "ipython3",
   "version": "3.6.8"
  }
 },
 "nbformat": 4,
 "nbformat_minor": 4
}
