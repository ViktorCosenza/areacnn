{
 "cells": [
  {
   "cell_type": "code",
   "execution_count": 1,
   "metadata": {
    "colab": {},
    "colab_type": "code",
    "id": "SCBJxAI4OSlh"
   },
   "outputs": [],
   "source": [
    "from PIL import Image, ImageStat\n",
    "from PIL.ImageDraw import ImageDraw\n",
    "\n",
    "import pandas as pd\n",
    "from matplotlib import pyplot as plt\n",
    "import torch\n",
    "from torch import nn\n",
    "from torch.nn import functional as F\n",
    "\n",
    "from random import randint\n",
    "from math import pi\n",
    "\n",
    "import os\n",
    "from os import path\n",
    "\n",
    "from fastai import vision\n",
    "from fastai.vision import ImageList, FloatList, cnn_learner, pil2tensor, open_image\n",
    "from fastai.callbacks import EarlyStoppingCallback, ReduceLROnPlateauCallback, CSVLogger\n",
    "from fastai.train import ShowGraph, Learner\n",
    "from fastai.metrics import accuracy_thresh\n",
    "from torchvision import models\n",
    "from torch import nn\n",
    "import numpy as np\n",
    "\n",
    "from functools import partial"
   ]
  },
  {
   "cell_type": "markdown",
   "metadata": {},
   "source": [
    "## Funcoes Auxiliares"
   ]
  },
  {
   "cell_type": "code",
   "execution_count": 2,
   "metadata": {
    "colab": {},
    "colab_type": "code",
    "id": "yeben-JAOixI",
    "jupyter": {
     "source_hidden": true
    }
   },
   "outputs": [],
   "source": [
    "def random_point(w, h, minx=0, miny=0):\n",
    "    x, y = randint(minx, w), randint(miny, h)\n",
    "    return (x, y)\n",
    "\n",
    "def area_ellipse(p1, p2):\n",
    "    x1, y1 = p1\n",
    "    x2, y2 = p2\n",
    "    x_len = abs(x1 - x2)\n",
    "    y_len = abs(y1 - y2)\n",
    "    return pi * x_len * y_len\n",
    "\n",
    "def gen_example(w, h, num_polygons=1):\n",
    "    example = Image.new('1', (w, h))\n",
    "    draw = ImageDraw(example, mode='1')\n",
    "\n",
    "    total_area = w * h\n",
    "    area = 0\n",
    "    for i in range(num_polygons):\n",
    "        p1 = random_point(w, h)\n",
    "        p2 = random_point(w, h, p1[0], p1[1])\n",
    "        draw.rectangle([p1, p2], fill=1)\n",
    "\n",
    "    (covered_area, ) = ImageStat.Stat(example).sum\n",
    "    area = covered_area / total_area\n",
    "    return (example, area)\n",
    "\n",
    "def base_model(pool_layer, pool_size):\n",
    "    return nn.Sequential(\n",
    "        nn.Conv2d(in_channels=1, out_channels=3, kernel_size=5, stride=1),\n",
    "        pool_layer(pool_size),\n",
    "        nn.ReLU(),\n",
    "        nn.Conv2d(3, 6, 3, 1),\n",
    "        pool_layer(pool_size),\n",
    "        nn.ReLU(),\n",
    "        nn.Conv2d(6, 4, 2, 1),\n",
    "        pool_layer(pool_size),\n",
    "        nn.ReLU()\n",
    "    )\n",
    "\n",
    "def cnn_max_pool(pool_size=2):\n",
    "    return base_model(nn.MaxPool2d, pool_size)\n",
    "\n",
    "class SumPool2d(nn.Module):\n",
    "    def __init__(self, pool_size):\n",
    "        super(SumPool2d, self).__init__()\n",
    "        self.pool_size = pool_size\n",
    "        self.area = pool_size * pool_size\n",
    "        \n",
    "    def forward(self, x):\n",
    "        return F.avg_pool2d(x, self.pool_size) * self.area\n",
    "    \n",
    "def cnn_sum_pool(pool_size=2):\n",
    "    return base_model(SumPool2d, pool_size)\n",
    "\n",
    "def cnn_avg_pool(pool_size=2):\n",
    "    return base_model(nn.AvgPool2d, pool_size)\n",
    "\n",
    "\n",
    "\n",
    "def gen_df(root_dir, dt_len, img_size=(512, 512), skip=True, test=False):\n",
    "    root_dir = path.abspath(root_dir)\n",
    "    if test:\n",
    "        root_dir = path.join(root_dir, 'test')\n",
    "    img_dir = path.join(root_dir, 'images')\n",
    "    df_dest = path.join(root_dir, 'data.csv')\n",
    "    if path.exists(df_dest) and skip:\n",
    "        print(\"Found existing dataset, skipping...\")\n",
    "        return pd.read_csv(df_dest, index_col=0)\n",
    "    \n",
    "    for directory in [root_dir, img_dir]:\n",
    "        if not path.exists(directory):\n",
    "            os.makedirs(directory)\n",
    "            print(f\"Created directory {directory}\")\n",
    "\n",
    "    df = pd.DataFrame(columns=['filename', 'area'])\n",
    "    for i in range(dt_len):\n",
    "        filename = f\"img_{i}.jpeg\"\n",
    "        dest_path = path.join(img_dir, filename)\n",
    "        img, area = gen_example(*img_size)\n",
    "        img.save(dest_path)\n",
    "        row = pd.Series({\"filename\": filename, \"area\": area})\n",
    "        df.loc[i] = row\n",
    "\n",
    "    df.to_csv(df_dest)\n",
    "    return df\n",
    "\n",
    "def summarize_results(models, root_dir):\n",
    "    df_results = pd.DataFrame()\n",
    "    for model in models:\n",
    "        name = model[\"name\"]\n",
    "        df_path = f\"{root_dir}/{name}/history_{name}.csv\"\n",
    "        df = pd.read_csv(df_path, index_col=0)\n",
    "        max_acc_thresh = df.iloc[df[\"accuracy_thresh\"].idxmax()]\n",
    "        max_idx = max_acc_thresh.name\n",
    "        max_acc_thresh = max_acc_thresh.append(\n",
    "            pd.Series({\"name\": name, \"epoch\": max_idx})\n",
    "        )\n",
    "        df_results = df_results.append(max_acc_thresh, ignore_index=True)\n",
    "\n",
    "    df_results = df_results[['name', 'epoch', 'accuracy_thresh', 'valid_loss', 'train_loss']]\n",
    "    df_results.to_csv(f\"{root_dir}/summary\")\n",
    "\n",
    "def save_stats(learn, name):\n",
    "    p = learn.recorder.plot_losses(return_fig=True)\n",
    "    p.savefig(f\"{learn.path}/losses\")"
   ]
  },
  {
   "cell_type": "markdown",
   "metadata": {},
   "source": [
    "## Dataset"
   ]
  },
  {
   "cell_type": "code",
   "execution_count": 3,
   "metadata": {
    "colab": {
     "base_uri": "https://localhost:8080/",
     "height": 51
    },
    "colab_type": "code",
    "id": "ebucZVjDX0hG",
    "outputId": "84fbb8a2-3df0-4f0f-ddc3-66a7e27185a6"
   },
   "outputs": [
    {
     "name": "stdout",
     "output_type": "stream",
     "text": [
      "Found existing dataset, skipping...\n",
      "Found existing dataset, skipping...\n"
     ]
    }
   ],
   "source": [
    "DT_ROOT_DIR = './polygon_data'\n",
    "DT_ROOT_DIR = path.abspath(DT_ROOT_DIR)\n",
    "DT_LEN = 10000\n",
    "W, H = 512, 512\n",
    "MODEL_ROOT_DIR = \"./results\" \n",
    "\n",
    "df_train = gen_df(DT_ROOT_DIR, DT_LEN, skip=True, test=False)\n",
    "df_test = gen_df(DT_ROOT_DIR, DT_LEN//2, skip=True, test=True)"
   ]
  },
  {
   "cell_type": "code",
   "execution_count": 4,
   "metadata": {
    "colab": {},
    "colab_type": "code",
    "id": "36jViGY-IhmN"
   },
   "outputs": [
    {
     "name": "stdout",
     "output_type": "stream",
     "text": [
      "Device: cuda\n"
     ]
    }
   ],
   "source": [
    "class Flatten(nn.Module):\n",
    "    def forward(self, x):\n",
    "        return x.view(x.size(0), -1)\n",
    "\n",
    "class PolygonList(ImageList):\n",
    "    def open(self, filename):\n",
    "        return open(image)\n",
    "    \n",
    "device = 'cuda' if torch.cuda.is_available() else 'cpu'\n",
    "print(f\"Device: {device}\")\n",
    "\n",
    "test_item_list = (\n",
    "    ImageList\n",
    "        .from_df(path=path.join(DT_ROOT_DIR, 'test', 'images'), df=df_test, convert_mode='1')\n",
    "        #.split_none()\n",
    "        #.label_from_df(cols=1, label_cls=FloatList)\n",
    ")\n",
    "    \n",
    "bunch = (ImageList\n",
    "            .from_df(path=path.join(DT_ROOT_DIR, 'images'), df=df_train, convert_mode='1')\n",
    "            .split_by_rand_pct()\n",
    "            .label_from_df(cols=1, label_cls=FloatList)\n",
    "            .transform(size=(W, H))\n",
    "            .add_test(test_item_list)\n",
    "            .databunch(bs=4, device=device)  \n",
    "        )"
   ]
  },
  {
   "cell_type": "markdown",
   "metadata": {},
   "source": [
    "## Model Training"
   ]
  },
  {
   "cell_type": "code",
   "execution_count": 8,
   "metadata": {
    "colab": {},
    "colab_type": "code",
    "id": "36jViGY-IhmN"
   },
   "outputs": [],
   "source": [
    "l1 = nn.MSELoss()\n",
    "loss_func = lambda i,t: l1(i.squeeze(), t)\n",
    "\n",
    "\n",
    "models = [\n",
    "    {\"model\": cnn_sum_pool, \"name\": \"sum_pool\"},\n",
    "    {\"model\": cnn_max_pool, \"name\": \"max_pool\"},\n",
    "    {\"model\": cnn_avg_pool, \"name\": \"avg_pool\"}\n",
    "]"
   ]
  },
  {
   "cell_type": "code",
   "execution_count": 9,
   "metadata": {
    "colab": {},
    "colab_type": "code",
    "id": "36jViGY-IhmN"
   },
   "outputs": [
    {
     "data": {
      "text/html": [
       "\n",
       "    <div>\n",
       "        <style>\n",
       "            /* Turns off some styling */\n",
       "            progress {\n",
       "                /* gets rid of default border in Firefox and Opera. */\n",
       "                border: none;\n",
       "                /* Needs to be in here for Safari polyfill so background images work as expected. */\n",
       "                background-size: auto;\n",
       "            }\n",
       "            .progress-bar-interrupted, .progress-bar-interrupted::-webkit-progress-bar {\n",
       "                background: #F44336;\n",
       "            }\n",
       "        </style>\n",
       "      <progress value='11' class='' max='100', style='width:300px; height:20px; vertical-align: middle;'></progress>\n",
       "      11.00% [11/100 02:53<23:23]\n",
       "    </div>\n",
       "    \n",
       "\n",
       "\n",
       "    <div>\n",
       "        <style>\n",
       "            /* Turns off some styling */\n",
       "            progress {\n",
       "                /* gets rid of default border in Firefox and Opera. */\n",
       "                border: none;\n",
       "                /* Needs to be in here for Safari polyfill so background images work as expected. */\n",
       "                background-size: auto;\n",
       "            }\n",
       "            .progress-bar-interrupted, .progress-bar-interrupted::-webkit-progress-bar {\n",
       "                background: #F44336;\n",
       "            }\n",
       "        </style>\n",
       "      <progress value='500' class='' max='500', style='width:300px; height:20px; vertical-align: middle;'></progress>\n",
       "      100.00% [500/500 00:02<00:00]\n",
       "    </div>\n",
       "    "
      ],
      "text/plain": [
       "<IPython.core.display.HTML object>"
      ]
     },
     "metadata": {},
     "output_type": "display_data"
    },
    {
     "name": "stdout",
     "output_type": "stream",
     "text": [
      "Epoch 6: reducing lr to 0.0006000000000000001\n",
      "Epoch 11: early stopping\n"
     ]
    },
    {
     "data": {
      "text/html": [
       "\n",
       "    <div>\n",
       "        <style>\n",
       "            /* Turns off some styling */\n",
       "            progress {\n",
       "                /* gets rid of default border in Firefox and Opera. */\n",
       "                border: none;\n",
       "                /* Needs to be in here for Safari polyfill so background images work as expected. */\n",
       "                background-size: auto;\n",
       "            }\n",
       "            .progress-bar-interrupted, .progress-bar-interrupted::-webkit-progress-bar {\n",
       "                background: #F44336;\n",
       "            }\n",
       "        </style>\n",
       "      <progress value='22' class='' max='100', style='width:300px; height:20px; vertical-align: middle;'></progress>\n",
       "      22.00% [22/100 05:47<20:33]\n",
       "    </div>\n",
       "    \n",
       "\n",
       "\n",
       "    <div>\n",
       "        <style>\n",
       "            /* Turns off some styling */\n",
       "            progress {\n",
       "                /* gets rid of default border in Firefox and Opera. */\n",
       "                border: none;\n",
       "                /* Needs to be in here for Safari polyfill so background images work as expected. */\n",
       "                background-size: auto;\n",
       "            }\n",
       "            .progress-bar-interrupted, .progress-bar-interrupted::-webkit-progress-bar {\n",
       "                background: #F44336;\n",
       "            }\n",
       "        </style>\n",
       "      <progress value='500' class='' max='500', style='width:300px; height:20px; vertical-align: middle;'></progress>\n",
       "      100.00% [500/500 00:02<00:00]\n",
       "    </div>\n",
       "    "
      ],
      "text/plain": [
       "<IPython.core.display.HTML object>"
      ]
     },
     "metadata": {},
     "output_type": "display_data"
    },
    {
     "name": "stdout",
     "output_type": "stream",
     "text": [
      "Epoch 17: reducing lr to 0.0006000000000000001\n",
      "Epoch 22: early stopping\n"
     ]
    },
    {
     "data": {
      "text/html": [
       "\n",
       "    <div>\n",
       "        <style>\n",
       "            /* Turns off some styling */\n",
       "            progress {\n",
       "                /* gets rid of default border in Firefox and Opera. */\n",
       "                border: none;\n",
       "                /* Needs to be in here for Safari polyfill so background images work as expected. */\n",
       "                background-size: auto;\n",
       "            }\n",
       "            .progress-bar-interrupted, .progress-bar-interrupted::-webkit-progress-bar {\n",
       "                background: #F44336;\n",
       "            }\n",
       "        </style>\n",
       "      <progress value='27' class='' max='100', style='width:300px; height:20px; vertical-align: middle;'></progress>\n",
       "      27.00% [27/100 07:06<19:13]\n",
       "    </div>\n",
       "    \n",
       "\n",
       "\n",
       "    <div>\n",
       "        <style>\n",
       "            /* Turns off some styling */\n",
       "            progress {\n",
       "                /* gets rid of default border in Firefox and Opera. */\n",
       "                border: none;\n",
       "                /* Needs to be in here for Safari polyfill so background images work as expected. */\n",
       "                background-size: auto;\n",
       "            }\n",
       "            .progress-bar-interrupted, .progress-bar-interrupted::-webkit-progress-bar {\n",
       "                background: #F44336;\n",
       "            }\n",
       "        </style>\n",
       "      <progress value='500' class='' max='500', style='width:300px; height:20px; vertical-align: middle;'></progress>\n",
       "      100.00% [500/500 00:02<00:00]\n",
       "    </div>\n",
       "    "
      ],
      "text/plain": [
       "<IPython.core.display.HTML object>"
      ]
     },
     "metadata": {},
     "output_type": "display_data"
    },
    {
     "name": "stdout",
     "output_type": "stream",
     "text": [
      "Epoch 6: reducing lr to 0.0006000000000000001\n",
      "Epoch 14: reducing lr to 0.00012000000000000002\n",
      "Epoch 22: reducing lr to 2.4000000000000004e-05\n",
      "Epoch 27: early stopping\n"
     ]
    },
    {
     "data": {
      "image/png": "[encoded data removed]",
      "text/plain": [
       "<Figure size 432x288 with 1 Axes>"
      ]
     },
     "metadata": {
      "needs_background": "light"
     },
     "output_type": "display_data"
    },
    {
     "data": {
      "image/png": "[encoded data removed]",
      "text/plain": [
       "<Figure size 432x288 with 1 Axes>"
      ]
     },
     "metadata": {
      "needs_background": "light"
     },
     "output_type": "display_data"
    },
    {
     "data": {
      "image/png": "[encoded data removed]",
      "text/plain": [
       "<Figure size 432x288 with 1 Axes>"
      ]
     },
     "metadata": {
      "needs_background": "light"
     },
     "output_type": "display_data"
    }
   ],
   "source": [
    "\n",
    "\n",
    "for model in models:\n",
    "    learn = cnn_learner(\n",
    "        data=bunch,\n",
    "        path=f\"{MODEL_ROOT_DIR}/{model['name']}\",\n",
    "        base_arch=lambda t: model[\"model\"](),\n",
    "        cut=lambda x: x,\n",
    "        loss_func=loss_func,\n",
    "        callback_fns=[\n",
    "            #ShowGraph, \n",
    "            partial(EarlyStoppingCallback, patience=10), \n",
    "            partial(ReduceLROnPlateauCallback, patience=5),\n",
    "            partial(CSVLogger, filename=f\"history_{model['name']}\")\n",
    "        ],\n",
    "        metrics=[\n",
    "            partial(\n",
    "                accuracy_thresh, \n",
    "                sigmoid=False\n",
    "            )\n",
    "        ],\n",
    "        silent=True\n",
    "    )\n",
    "    learn.fit(100)\n",
    "    save_stats(learn, model[\"name\"])\n",
    "    \n",
    "summarize_results(models, root_dir)"
   ]
  },
  {
   "cell_type": "code",
   "execution_count": 65,
   "metadata": {},
   "outputs": [],
   "source": []
  }
 ],
 "metadata": {
  "accelerator": "GPU",
  "colab": {
   "collapsed_sections": [],
   "machine_shape": "hm",
   "name": "PolygonDatasetGenerator.ipynb",
   "provenance": []
  },
  "kernelspec": {
   "display_name": "Python 3",
   "language": "python",
   "name": "python3"
  },
  "language_info": {
   "codemirror_mode": {
    "name": "ipython",
    "version": 3
   },
   "file_extension": ".py",
   "mimetype": "text/x-python",
   "name": "python",
   "nbconvert_exporter": "python",
   "pygments_lexer": "ipython3",
   "version": "3.6.8"
  }
 },
 "nbformat": 4,
 "nbformat_minor": 4
}
