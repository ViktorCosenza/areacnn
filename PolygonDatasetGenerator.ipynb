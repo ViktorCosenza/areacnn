{
 "cells": [
  {
   "cell_type": "code",
   "execution_count": 1,
   "metadata": {},
   "outputs": [],
   "source": [
    "from PIL import Image, ImageStat\n",
    "from PIL.ImageDraw import ImageDraw\n",
    "\n",
    "import pandas as pd\n",
    "from matplotlib import pyplot as plt\n",
    "import torch\n",
    "from torch import nn\n",
    "from torch.nn import functional as F\n",
    "\n",
    "from random import randint\n",
    "from math import pi\n",
    "\n",
    "import os\n",
    "from os import path\n",
    "\n",
    "from fastai import vision\n",
    "from fastai.vision import ImageList, FloatList, cnn_learner, pil2tensor, open_image\n",
    "from fastai.callbacks import EarlyStoppingCallback, ReduceLROnPlateauCallback, CSVLogger\n",
    "from fastai.train import ShowGraph, Learner\n",
    "from fastai.metrics import mean_absolute_error, mean_squared_error\n",
    "from torchvision import models\n",
    "from torch import nn\n",
    "import numpy as np\n",
    "\n",
    "from functools import partial\n",
    "\n",
    "## Local Imports ##\n",
    "from models import helpers as model_helpers, models as custom_models\n",
    "from datasets import helpers as dataset_helpers"
   ]
  },
  {
   "cell_type": "markdown",
   "metadata": {
    "colab_type": "text",
    "id": "QLVyf1-umCV2"
   },
   "source": [
    "## Dataset"
   ]
  },
  {
   "cell_type": "code",
   "execution_count": 2,
   "metadata": {},
   "outputs": [
    {
     "name": "stdout",
     "output_type": "stream",
     "text": [
      "Found existing dataset, skipping...\n",
      "Found existing dataset, skipping...\n",
      "Found existing dataset, skipping...\n",
      "Found existing dataset, skipping...\n",
      "Created directory /home/victor/Git/areacnn/data/ellipse_data_counts/train\n",
      "Created directory /home/victor/Git/areacnn/data/ellipse_data_counts/train/images\n",
      "Created directory /home/victor/Git/areacnn/data/ellipse_data_counts/test\n",
      "Created directory /home/victor/Git/areacnn/data/ellipse_data_counts/test/images\n",
      "Created directory /home/victor/Git/areacnn/data/ellipse_data_percentage/train\n",
      "Created directory /home/victor/Git/areacnn/data/ellipse_data_percentage/train/images\n",
      "Created directory /home/victor/Git/areacnn/data/ellipse_data_percentage/test\n",
      "Created directory /home/victor/Git/areacnn/data/ellipse_data_percentage/test/images\n"
     ]
    }
   ],
   "source": [
    "DT_LEN = 25000\n",
    "COUNT = True\n",
    "ROOT_DIR = 'data'\n",
    "DT_ROOT_DIR = 'polygon_data_counts' if COUNT else 'polygon_data'\n",
    "DT_ROOT_DIR = path.join(ROOT_DIR, DT_ROOT_DIR)\n",
    "DT_ROOT_DIR = path.abspath(DT_ROOT_DIR)\n",
    "MODEL_ROOT_DIR = path.join(DT_ROOT_DIR, 'results')\n",
    "W, H = 512, 512\n",
    "BATCH_SIZE = 64\n",
    "\n",
    "DATASETS = [\n",
    "        {\"root_dir\": path.join(ROOT_DIR, \"polygon_data_counts\"), \"count\": True},\n",
    "        {\"root_dir\": path.join(ROOT_DIR, \"polygon_data_percentage\"), \"count\": False},\n",
    "        {\"root_dir\": path.join(ROOT_DIR, \"ellipse_data_counts\"), \"count\": True},\n",
    "        {\"root_dir\": path.join(ROOT_DIR, \"ellipse_data_percentage\"), \"count\": False}\n",
    "    ]\n",
    "\n",
    "for dataset in DATASETS:\n",
    "    df_train = dataset_helpers.gen_df(dt_len=DT_LEN, skip=True, test=False, **dataset)\n",
    "    df_test  = dataset_helpers.gen_df(dt_len=DT_LEN//2, skip=True, test=True, **dataset)"
   ]
  }
 ],
 "metadata": {
  "accelerator": "GPU",
  "colab": {
   "collapsed_sections": [],
   "machine_shape": "hm",
   "name": "PolygonDatasetGenerator.ipynb",
   "provenance": []
  },
  "kernelspec": {
   "display_name": "Python 3",
   "language": "python",
   "name": "python3"
  },
  "language_info": {
   "codemirror_mode": {
    "name": "ipython",
    "version": 3
   },
   "file_extension": ".py",
   "mimetype": "text/x-python",
   "name": "python",
   "nbconvert_exporter": "python",
   "pygments_lexer": "ipython3",
   "version": "3.6.8"
  }
 },
 "nbformat": 4,
 "nbformat_minor": 4
}
