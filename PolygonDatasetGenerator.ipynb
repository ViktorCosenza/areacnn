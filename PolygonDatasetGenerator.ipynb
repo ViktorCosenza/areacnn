{
 "cells": [
  {
   "cell_type": "code",
   "execution_count": 5,
   "metadata": {},
   "outputs": [],
   "source": [
    "from PIL import Image, ImageStat\n",
    "from PIL.ImageDraw import ImageDraw\n",
    "\n",
    "import pandas as pd\n",
    "from matplotlib import pyplot as plt\n",
    "import torch\n",
    "from torch import nn\n",
    "from torch.nn import functional as F\n",
    "\n",
    "from random import randint\n",
    "from math import pi\n",
    "\n",
    "import os\n",
    "from os import path\n",
    "\n",
    "from fastai import vision\n",
    "from fastai.vision import ImageList, FloatList, cnn_learner, pil2tensor, open_image\n",
    "from fastai.callbacks import EarlyStoppingCallback, ReduceLROnPlateauCallback, CSVLogger\n",
    "from fastai.train import ShowGraph, Learner\n",
    "from fastai.metrics import mean_absolute_error, mean_squared_error\n",
    "from torchvision import models\n",
    "from torch import nn\n",
    "import numpy as np\n",
    "\n",
    "from functools import partial\n",
    "\n",
    "## Local Imports ##\n",
    "from models import helpers as model_helpers, models as custom_models\n",
    "from datasets import helpers as dataset_helpers"
   ]
  },
  {
   "cell_type": "markdown",
   "metadata": {
    "colab_type": "text",
    "id": "QLVyf1-umCV2"
   },
   "source": [
    "## Dataset"
   ]
  },
  {
   "cell_type": "code",
   "execution_count": 6,
   "metadata": {},
   "outputs": [
    {
     "name": "stdout",
     "output_type": "stream",
     "text": [
      "Found existing dataset, skipping...\n",
      "Found existing dataset, skipping...\n",
      "Found existing dataset, skipping...\n",
      "Found existing dataset, skipping...\n"
     ]
    }
   ],
   "source": [
    "DT_LEN = 25000\n",
    "COUNT = True\n",
    "ROOT_DIR = 'data'\n",
    "DT_ROOT_DIR = 'polygon_data_counts' if COUNT else 'polygon_data'\n",
    "DT_ROOT_DIR = path.join(ROOT_DIR, DT_ROOT_DIR)\n",
    "DT_ROOT_DIR = path.abspath(DT_ROOT_DIR)\n",
    "MODEL_ROOT_DIR = path.join(DT_ROOT_DIR, 'results')\n",
    "W, H = 512, 512\n",
    "BATCH_SIZE = 64\n",
    "\n",
    "DATASETS = [\n",
    "        {\"root_dir\": path.join(ROOT_DIR, \"polygon_data_counts\"), \"count\": True},\n",
    "        {\"root_dir\": path.join(ROOT_DIR, \"polygon_data_percentage\"), \"count\": False}\n",
    "    ]\n",
    "\n",
    "for dataset in DATASETS:\n",
    "    df_train = dataset_helpers.gen_df(dataset[\"root_dir\"], DT_LEN, skip=True, test=False, count=dataset[\"count\"])\n",
    "    df_test  = dataset_helpers.gen_df(dataset[\"root_dir\"], DT_LEN, skip=True, test=True, count=dataset[\"count\"])"
   ]
  },
  {
   "cell_type": "code",
   "execution_count": 7,
   "metadata": {},
   "outputs": [
    {
     "name": "stdout",
     "output_type": "stream",
     "text": [
      "Device: cuda\n"
     ]
    },
    {
     "data": {
      "text/plain": [
       "ImageDataBunch;\n",
       "\n",
       "Train: LabelList (20000 items)\n",
       "x: ImageList\n",
       "Image (1, 512, 512),Image (1, 512, 512),Image (1, 512, 512),Image (1, 512, 512),Image (1, 512, 512)\n",
       "y: FloatList\n",
       "0.059143066,0.0031585693,0.04852295,0.05199051,0.007537842\n",
       "Path: data/polygon_data_percentage/train/images;\n",
       "\n",
       "Valid: LabelList (5000 items)\n",
       "x: ImageList\n",
       "Image (1, 512, 512),Image (1, 512, 512),Image (1, 512, 512),Image (1, 512, 512),Image (1, 512, 512)\n",
       "y: FloatList\n",
       "0.013114929,0.20076752,0.04044342,0.050930023,0.0018310547\n",
       "Path: data/polygon_data_percentage/train/images;\n",
       "\n",
       "Test: LabelList (25000 items)\n",
       "x: ImageList\n",
       "Image (1, 512, 512),Image (1, 512, 512),Image (1, 512, 512),Image (1, 512, 512),Image (1, 512, 512)\n",
       "y: EmptyLabelList\n",
       ",,,,\n",
       "Path: data/polygon_data_percentage/train/images"
      ]
     },
     "execution_count": 7,
     "metadata": {},
     "output_type": "execute_result"
    }
   ],
   "source": [
    "device = 'cuda' if torch.cuda.is_available() else 'cpu'\n",
    "print(f\"Device: {device}\")\n",
    "\n",
    "def get_dataset(train_dir, test_dir, df_train, df_test, bs, transform_args):\n",
    "    test_item_list = (ImageList\n",
    "        .from_df(path=path.join(DT_ROOT_DIR, 'test', 'images'), df=df_test, convert_mode='1')\n",
    "    )\n",
    "    return (ImageList\n",
    "            .from_df(path=path.join(DT_ROOT_DIR, 'train', 'images'), df=df_train, convert_mode='1')\n",
    "            .split_by_rand_pct()\n",
    "            .label_from_df(cols=1, label_cls=FloatList)\n",
    "            .transform(**transform_args)\n",
    "            .add_test(test_item_list)\n",
    "            .databunch(bs=bs, device=device)  \n",
    "        )\n",
    "\n",
    "DT_ROOT_DIR = 'data/polygon_data_percentage'\n",
    "df_train = pd.read_csv(f\"{DT_ROOT_DIR}/train/data.csv\", index_col=0)\n",
    "df_test = pd.read_csv(f\"{DT_ROOT_DIR}/test/data.csv\", index_col=0)\n",
    "\n",
    "\n",
    "get_dataset(\n",
    "    path.join(DT_ROOT_DIR, 'train', 'images'),\n",
    "    path.join(DT_ROOT_DIR, 'test', 'images'),\n",
    "    df_train,\n",
    "    df_test,\n",
    "    64,\n",
    "    {\"size\": (512, 512)}\n",
    ")"
   ]
  },
  {
   "cell_type": "markdown",
   "metadata": {
    "colab_type": "text",
    "id": "EXLj-hbOmCWR"
   },
   "source": [
    "## Model Training"
   ]
  },
  {
   "cell_type": "code",
   "execution_count": 8,
   "metadata": {},
   "outputs": [],
   "source": [
    "MAX_EPOCHS = 10\n",
    "EARLY_STOP_PATIENCE = 5\n",
    "REDUCE_ON_PLATEAU_PATIENCE = 2\n",
    "\n",
    "l1 = nn.L1Loss()\n",
    "loss_func = lambda i,t: l1(i.squeeze(), t)\n",
    "\n"
   ]
  },
  {
   "cell_type": "markdown",
   "metadata": {
    "colab_type": "text",
    "id": "2Esv-MVimCWe"
   },
   "source": [
    "### Baseline Model (MLP)"
   ]
  },
  {
   "cell_type": "code",
   "execution_count": 9,
   "metadata": {},
   "outputs": [
    {
     "ename": "NameError",
     "evalue": "name 'bunch' is not defined",
     "output_type": "error",
     "traceback": [
      "\u001b[0;31m---------------------------------------------------------------------------\u001b[0m",
      "\u001b[0;31mNameError\u001b[0m                                 Traceback (most recent call last)",
      "\u001b[0;32m<ipython-input-9-e840b060aafd>\u001b[0m in \u001b[0;36m<module>\u001b[0;34m\u001b[0m\n\u001b[1;32m     10\u001b[0m learn = Learner(\n\u001b[1;32m     11\u001b[0m     \u001b[0mmodel\u001b[0m\u001b[0;34m=\u001b[0m\u001b[0mnn\u001b[0m\u001b[0;34m.\u001b[0m\u001b[0mSequential\u001b[0m\u001b[0;34m(\u001b[0m\u001b[0mFlatten\u001b[0m\u001b[0;34m(\u001b[0m\u001b[0;34m)\u001b[0m\u001b[0;34m,\u001b[0m \u001b[0mnn\u001b[0m\u001b[0;34m.\u001b[0m\u001b[0mLinear\u001b[0m\u001b[0;34m(\u001b[0m\u001b[0mW\u001b[0m \u001b[0;34m*\u001b[0m \u001b[0mH\u001b[0m\u001b[0;34m,\u001b[0m \u001b[0;36m1\u001b[0m\u001b[0;34m)\u001b[0m\u001b[0;34m)\u001b[0m\u001b[0;34m,\u001b[0m\u001b[0;34m\u001b[0m\u001b[0;34m\u001b[0m\u001b[0m\n\u001b[0;32m---> 12\u001b[0;31m     \u001b[0mdata\u001b[0m\u001b[0;34m=\u001b[0m\u001b[0mbunch\u001b[0m\u001b[0;34m,\u001b[0m\u001b[0;34m\u001b[0m\u001b[0;34m\u001b[0m\u001b[0m\n\u001b[0m\u001b[1;32m     13\u001b[0m     \u001b[0mpath\u001b[0m\u001b[0;34m=\u001b[0m\u001b[0;34mf\"{MODEL_ROOT_DIR}/mlp\"\u001b[0m\u001b[0;34m,\u001b[0m\u001b[0;34m\u001b[0m\u001b[0;34m\u001b[0m\u001b[0m\n\u001b[1;32m     14\u001b[0m     callback_fns=[\n",
      "\u001b[0;31mNameError\u001b[0m: name 'bunch' is not defined"
     ]
    }
   ],
   "source": [
    "class Flatten(nn.Module):\n",
    "    def forward(self, x):\n",
    "        return x.view(x.size(0), -1)\n",
    "\n",
    "metrics = [\n",
    "    mean_squared_error,\n",
    "    mean_absolute_error\n",
    "]\n",
    "\n",
    "learn = Learner(\n",
    "    model=nn.Sequential(Flatten(), nn.Linear(W * H, 1)),\n",
    "    data=bunch,\n",
    "    path=f\"{MODEL_ROOT_DIR}/mlp\",\n",
    "    callback_fns=[\n",
    "        partial(EarlyStoppingCallback, patience=EARLY_STOP_PATIENCE), \n",
    "        partial(ReduceLROnPlateauCallback, patience=REDUCE_ON_PLATEAU_PATIENCE),\n",
    "        partial(CSVLogger, filename=f\"history_mlp\")\n",
    "    ],\n",
    "    metrics=metrics,\n",
    "    silent=False\n",
    ")\n",
    "learn.fit(MAX_EPOCHS)\n",
    "save_stats(learn, 'mlp')\n",
    "learn.save(\"mlp\")"
   ]
  },
  {
   "cell_type": "code",
   "execution_count": 7,
   "metadata": {},
   "outputs": [
    {
     "data": {
      "text/html": [],
      "text/plain": [
       "<IPython.core.display.HTML object>"
      ]
     },
     "metadata": {},
     "output_type": "display_data"
    },
    {
     "name": "stdout",
     "output_type": "stream",
     "text": [
      "Epoch 9: reducing lr to 0.0006000000000000001\n"
     ]
    },
    {
     "data": {
      "text/html": [],
      "text/plain": [
       "<IPython.core.display.HTML object>"
      ]
     },
     "metadata": {},
     "output_type": "display_data"
    },
    {
     "name": "stdout",
     "output_type": "stream",
     "text": [
      "Epoch 3: reducing lr to 0.0006000000000000001\n"
     ]
    },
    {
     "data": {
      "text/html": [],
      "text/plain": [
       "<IPython.core.display.HTML object>"
      ]
     },
     "metadata": {},
     "output_type": "display_data"
    },
    {
     "name": "stdout",
     "output_type": "stream",
     "text": [
      "Epoch 7: reducing lr to 0.0006000000000000001\n"
     ]
    },
    {
     "data": {
      "image/png": "[encoded data removed]",
      "text/plain": [
       "<Figure size 432x288 with 1 Axes>"
      ]
     },
     "metadata": {
      "needs_background": "light"
     },
     "output_type": "display_data"
    },
    {
     "data": {
      "image/png": "[encoded data removed]",
      "text/plain": [
       "<Figure size 432x288 with 1 Axes>"
      ]
     },
     "metadata": {
      "needs_background": "light"
     },
     "output_type": "display_data"
    },
    {
     "data": {
      "image/png": "[encoded data removed]",
      "text/plain": [
       "<Figure size 432x288 with 1 Axes>"
      ]
     },
     "metadata": {
      "needs_background": "light"
     },
     "output_type": "display_data"
    }
   ],
   "source": [
    "for model in custom_models.get_models():\n",
    "    learn = cnn_learner(\n",
    "        data=bunch,\n",
    "        path=path.join(MODEL_ROOT_DIR, model[\"name\"]),\n",
    "        base_arch=lambda t: model[\"model\"],\n",
    "        cut=lambda x: x,\n",
    "        loss_func=loss_func,\n",
    "        callback_fns=[\n",
    "            partial(EarlyStoppingCallback, patience=EARLY_STOP_PATIENCE), \n",
    "            partial(ReduceLROnPlateauCallback, patience=REDUCE_ON_PLATEAU_PATIENCE),\n",
    "            partial(CSVLogger, filename=f\"history_{model['name']}\")\n",
    "        ],\n",
    "        metrics=metrics,\n",
    "        silent=True\n",
    "    )\n",
    "    learn.fit(MAX_EPOCHS)\n",
    "    save_stats(learn, model[\"name\"])\n",
    "    learn.save(model[\"name\"])"
   ]
  },
  {
   "cell_type": "code",
   "execution_count": 9,
   "metadata": {
    "colab": {},
    "colab_type": "code",
    "id": "zpnQmgnemCWz"
   },
   "outputs": [
    {
     "ename": "TypeError",
     "evalue": "'module' object is not iterable",
     "output_type": "error",
     "traceback": [
      "\u001b[0;31m---------------------------------------------------------------------------\u001b[0m",
      "\u001b[0;31mTypeError\u001b[0m                                 Traceback (most recent call last)",
      "\u001b[0;32m<ipython-input-9-92d8a7661ad6>\u001b[0m in \u001b[0;36m<module>\u001b[0;34m\u001b[0m\n\u001b[0;32m----> 1\u001b[0;31m \u001b[0msummarize_results\u001b[0m\u001b[0;34m(\u001b[0m\u001b[0;34m[\u001b[0m\u001b[0;34m*\u001b[0m\u001b[0mmodels\u001b[0m\u001b[0;34m,\u001b[0m \u001b[0;34m{\u001b[0m\u001b[0;34m\"name\"\u001b[0m\u001b[0;34m:\u001b[0m\u001b[0;34m\"mlp\"\u001b[0m\u001b[0;34m}\u001b[0m\u001b[0;34m]\u001b[0m\u001b[0;34m,\u001b[0m \u001b[0mMODEL_ROOT_DIR\u001b[0m\u001b[0;34m)\u001b[0m\u001b[0;34m\u001b[0m\u001b[0;34m\u001b[0m\u001b[0m\n\u001b[0m",
      "\u001b[0;31mTypeError\u001b[0m: 'module' object is not iterable"
     ]
    }
   ],
   "source": [
    "summarize_results([*models, {\"name\":\"mlp\"}], MODEL_ROOT_DIR)"
   ]
  },
  {
   "cell_type": "code",
   "execution_count": null,
   "metadata": {},
   "outputs": [],
   "source": []
  }
 ],
 "metadata": {
  "accelerator": "GPU",
  "colab": {
   "collapsed_sections": [],
   "machine_shape": "hm",
   "name": "PolygonDatasetGenerator.ipynb",
   "provenance": []
  },
  "kernelspec": {
   "display_name": "Python 3",
   "language": "python",
   "name": "python3"
  },
  "language_info": {
   "codemirror_mode": {
    "name": "ipython",
    "version": 3
   },
   "file_extension": ".py",
   "mimetype": "text/x-python",
   "name": "python",
   "nbconvert_exporter": "python",
   "pygments_lexer": "ipython3",
   "version": "3.6.8"
  }
 },
 "nbformat": 4,
 "nbformat_minor": 4
}
