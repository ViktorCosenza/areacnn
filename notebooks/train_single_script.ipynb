{
 "cells": [
  {
   "cell_type": "code",
   "execution_count": 2,
   "metadata": {},
   "outputs": [],
   "source": [
    "from argparse import ArgumentParser\n",
    "from os import path\n",
    "import sys\n",
    "\n",
    "if '../' not in sys.path: sys.path.insert(0, '../')\n",
    "    \n",
    "from models.helpers import Param\n",
    "from models.models import MODELS_TO_TEST"
   ]
  },
  {
   "cell_type": "code",
   "execution_count": 3,
   "metadata": {},
   "outputs": [
    {
     "name": "stderr",
     "output_type": "stream",
     "text": [
      "usage: ipykernel_launcher.py [-h] [-model MODEL] [-optim OPTIM]\n",
      "                             [-loss_fn LOSS_FN] [-dataset DATASET]\n",
      "ipykernel_launcher.py: error: unrecognized arguments: -f /home/victor/.local/share/jupyter/runtime/kernel-493b64c6-a4f9-4efc-b1f7-c8e5692dbad8.json\n"
     ]
    },
    {
     "ename": "SystemExit",
     "evalue": "2",
     "output_type": "error",
     "traceback": [
      "An exception has occurred, use %tb to see the full traceback.\n",
      "\u001b[0;31mSystemExit\u001b[0m\u001b[0;31m:\u001b[0m 2\n"
     ]
    },
    {
     "name": "stderr",
     "output_type": "stream",
     "text": [
      "/home/victor/.local/lib/python3.6/site-packages/IPython/core/interactiveshell.py:3334: UserWarning: To exit: use 'exit', 'quit', or Ctrl-D.\n",
      "  warn(\"To exit: use 'exit', 'quit', or Ctrl-D.\", stacklevel=1)\n"
     ]
    }
   ],
   "source": [
    "def get_params(args):\n",
    "    print(Param('a', None))\n",
    "    \n",
    "def main():\n",
    "    p = ArgumentParser(description='Train on a dataset with a CNN')\n",
    "    p.add_argument('-model', type=str, help='The model name')\n",
    "    p.add_argument('-optim', type=str, help='The optim to use')\n",
    "    p.add_argument('-loss_fn', type=str, help='The loss function')    \n",
    "    p.add_argument('-dataset', type=str, help='The dataset')    \n",
    "    args = p.parse_args()\n",
    "    get_params(args)\n",
    "    \n",
    "    \n",
    "if __name__ == '__main__': main()"
   ]
  },
  {
   "cell_type": "code",
   "execution_count": 7,
   "metadata": {},
   "outputs": [
    {
     "data": {
      "text/plain": [
       "{'SUM_POOL_2_SQZ': Param(name='SUM_POOL_2_SQZ', param=<function <lambda> at 0x7f3edd21f840>),\n",
       " 'MAX_POOL_2_SQZ': Param(name='MAX_POOL_2_SQZ', param=<function <lambda> at 0x7f3edd21f8c8>),\n",
       " 'SUM_POOL_3_SQZ': Param(name='SUM_POOL_3_SQZ', param=<function <lambda> at 0x7f3edd21f950>),\n",
       " 'MAX_POOL_3_SQZ': Param(name='MAX_POOL_3_SQZ', param=<function <lambda> at 0x7f3edd21f9d8>),\n",
       " 'SUM_POOL_5_SQZ': Param(name='SUM_POOL_5_SQZ', param=<function <lambda> at 0x7f3edd21fa60>),\n",
       " 'MAX_POOL_5_SQZ': Param(name='MAX_POOL_5_SQZ', param=<function <lambda> at 0x7f3edd21fae8>),\n",
       " 'SUM_POOL_2': Param(name='SUM_POOL_2', param=<function <lambda> at 0x7f3edd21fb70>),\n",
       " 'MAX_POOL_2': Param(name='MAX_POOL_2', param=<function <lambda> at 0x7f3edd21fbf8>),\n",
       " 'SUM_POOL_4': Param(name='SUM_POOL_4', param=<function <lambda> at 0x7f3edd21fc80>),\n",
       " 'MAX_POOL_4': Param(name='MAX_POOL_4', param=<function <lambda> at 0x7f3edd21fd08>),\n",
       " 'SUM_POOL_6': Param(name='SUM_POOL_6', param=<function <lambda> at 0x7f3edd21fd90>),\n",
       " 'MAX_POOL_6': Param(name='MAX_POOL_6', param=<function <lambda> at 0x7f3edd21fe18>),\n",
       " 'STRIDE_2': Param(name='STRIDE_2', param=<function <lambda> at 0x7f3edd21fea0>),\n",
       " 'STRIDE_4': Param(name='STRIDE_4', param=<function <lambda> at 0x7f3edd21ff28>),\n",
       " 'STRIDE_6': Param(name='STRIDE_6', param=<function <lambda> at 0x7f3edd22f048>)}"
      ]
     },
     "execution_count": 7,
     "metadata": {},
     "output_type": "execute_result"
    }
   ],
   "source": [
    "MODELS_TO_TEST"
   ]
  },
  {
   "cell_type": "code",
   "execution_count": null,
   "metadata": {},
   "outputs": [],
   "source": []
  }
 ],
 "metadata": {
  "kernelspec": {
   "display_name": "Python 3",
   "language": "python",
   "name": "python3"
  },
  "language_info": {
   "codemirror_mode": {
    "name": "ipython",
    "version": 3
   },
   "file_extension": ".py",
   "mimetype": "text/x-python",
   "name": "python",
   "nbconvert_exporter": "python",
   "pygments_lexer": "ipython3",
   "version": "3.6.8"
  }
 },
 "nbformat": 4,
 "nbformat_minor": 4
}
