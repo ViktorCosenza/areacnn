{
 "cells": [
  {
   "cell_type": "code",
   "execution_count": 1,
   "metadata": {},
   "outputs": [],
   "source": [
    "import torch\n",
    "import torchvision\n",
    "import numpy as np\n",
    "from PIL import Image\n",
    "from tqdm import tqdm\n",
    "from functools import partial\n",
    "\n",
    "\n",
    "import pandas as pd\n",
    "import random\n",
    "from os import path\n",
    "import os"
   ]
  },
  {
   "cell_type": "code",
   "execution_count": 2,
   "metadata": {},
   "outputs": [],
   "source": [
    "ROOT_DIR = path.join('/home', 'victor', 'datasets')\n",
    "\n",
    "DT_ROOT = path.join(ROOT_DIR, 'VOC')\n",
    "DT_DEST_BINARY = path.join(ROOT_DIR, 'VOC_FORMS')\n",
    "DT_DEST_RGB_RANDOM = path.join(ROOT_DIR , 'VOC_FORMS_RGB')\n",
    "DT_DEST_RGB_SINGLE_CLASS = lambda c: path.join(ROOT_DIR, f'VOC_FORMS_RGB_{c.upper()}')\n",
    "\n",
    "object_categories = ['aeroplane', 'bicycle', 'bird', 'boat',\n",
    "                     'bottle', 'bus', 'car', 'cat', 'chair',\n",
    "                     'cow', 'diningtable', 'dog', 'horse',\n",
    "                     'motorbike', 'person', 'pottedplant',\n",
    "                     'sheep', 'sofa', 'train', 'tvmonitor']\n",
    "\n",
    "dt_train = torchvision.datasets.VOCSegmentation(\n",
    "    root=path.join(DT_ROOT, 'train'),\n",
    "    download=False,\n",
    "    image_set='train'\n",
    ")\n",
    "\n",
    "dt_val = torchvision.datasets.VOCSegmentation(\n",
    "    root=path.join(DT_ROOT, 'test'),\n",
    "    download=False,\n",
    "    image_set='val'\n",
    ")"
   ]
  },
  {
   "cell_type": "code",
   "execution_count": 3,
   "metadata": {},
   "outputs": [],
   "source": [
    "def gen_example_from_voc(voc):\n",
    "    for example, segmentation in voc:\n",
    "        im = Image.fromarray(np.array(segmentation) > 0).resize((512, 512)).convert(\"1\")\n",
    "        area = np.sum(im)\n",
    "        yield (im, area)\n",
    "\n",
    "def random_class_mask_generator(voc):\n",
    "    for example, segmentation in voc:\n",
    "        present_labels = np.setdiff1d(np.unique(segmentation), [0, 255])\n",
    "        chosen = np.random.choice(present_labels)\n",
    "        background = Image.fromarray((np.asarray(segmentation) != chosen).astype(np.bool))\n",
    "        example.paste(0, mask=background)\n",
    "        area = np.logical_not(background).sum()\n",
    "        yield (example, area)\n",
    "\n",
    "def class_mask_generator(voc, cl):\n",
    "    for example, segmentation in voc:\n",
    "        present_labels = np.setdiff1d(np.unique(segmentation), [0, 255])\n",
    "        background = Image.fromarray((np.asarray(segmentation) != cl).astype(np.bool))\n",
    "        area = np.logical_not(background).sum()\n",
    "        if area == 0: continue\n",
    "        \n",
    "        example.paste(0, mask=background)\n",
    "        yield (example, area)\n",
    "\n",
    "def gen_df_from_voc(root_dir, dt, generator_fn, skip=True):\n",
    "    root_dir = path.abspath(root_dir)\n",
    "    img_dir = path.join(root_dir, \"images\")\n",
    "    df_dest = path.join(root_dir, \"data.csv\")\n",
    "    if skip and path.exists(df_dest):\n",
    "        print(f\"Found existing dataset, skipping for {root_dir}...\")\n",
    "        return pd.read_csv(df_dest, index_col=0)\n",
    "\n",
    "    for directory in [root_dir, img_dir]:\n",
    "        if not path.exists(directory):\n",
    "            os.makedirs(directory)\n",
    "            print(f\"Created directory {directory}\")\n",
    "\n",
    "    df = pd.DataFrame(columns=[\"filename\", \"label\"])\n",
    "    for i, (img, area) in enumerate(generator_fn(dt)):\n",
    "        filename = f\"img_{i}.jpeg\"\n",
    "        dest_path = path.join(img_dir, filename)\n",
    "        img.save(dest_path)\n",
    "        row = pd.Series({\"filename\": filename, \"label\": area})\n",
    "        df.loc[i] = row\n",
    "\n",
    "    df.to_csv(df_dest)\n",
    "    return df"
   ]
  },
  {
   "cell_type": "code",
   "execution_count": 4,
   "metadata": {},
   "outputs": [
    {
     "name": "stderr",
     "output_type": "stream",
     "text": [
      "  0%|          | 0/20 [00:00<?, ?it/s]"
     ]
    },
    {
     "name": "stdout",
     "output_type": "stream",
     "text": [
      "Found existing dataset, skipping for /home/victor/datasets/VOC_FORMS/train...\n",
      "Found existing dataset, skipping for /home/victor/datasets/VOC_FORMS/val...\n",
      "Found existing dataset, skipping for /home/victor/datasets/VOC_FORMS_RGB/train...\n",
      "Found existing dataset, skipping for /home/victor/datasets/VOC_FORMS_RGB/val...\n",
      "Created directory /home/victor/datasets/VOC_FORMS_RGB_AEROPLANE/train\n",
      "Created directory /home/victor/datasets/VOC_FORMS_RGB_AEROPLANE/train/images\n",
      "Created directory /home/victor/datasets/VOC_FORMS_RGB_AEROPLANE/val\n",
      "Created directory /home/victor/datasets/VOC_FORMS_RGB_AEROPLANE/val/images\n"
     ]
    },
    {
     "name": "stderr",
     "output_type": "stream",
     "text": [
      "  5%|▌         | 1/20 [00:15<04:50, 15.28s/it]"
     ]
    },
    {
     "name": "stdout",
     "output_type": "stream",
     "text": [
      "Created directory /home/victor/datasets/VOC_FORMS_RGB_BICYCLE/train\n",
      "Created directory /home/victor/datasets/VOC_FORMS_RGB_BICYCLE/train/images\n",
      "Created directory /home/victor/datasets/VOC_FORMS_RGB_BICYCLE/val\n",
      "Created directory /home/victor/datasets/VOC_FORMS_RGB_BICYCLE/val/images\n"
     ]
    },
    {
     "name": "stderr",
     "output_type": "stream",
     "text": [
      " 10%|█         | 2/20 [00:30<04:34, 15.24s/it]"
     ]
    },
    {
     "name": "stdout",
     "output_type": "stream",
     "text": [
      "Created directory /home/victor/datasets/VOC_FORMS_RGB_BIRD/train\n",
      "Created directory /home/victor/datasets/VOC_FORMS_RGB_BIRD/train/images\n",
      "Created directory /home/victor/datasets/VOC_FORMS_RGB_BIRD/val\n",
      "Created directory /home/victor/datasets/VOC_FORMS_RGB_BIRD/val/images\n"
     ]
    },
    {
     "name": "stderr",
     "output_type": "stream",
     "text": [
      " 15%|█▌        | 3/20 [00:45<04:19, 15.25s/it]"
     ]
    },
    {
     "name": "stdout",
     "output_type": "stream",
     "text": [
      "Created directory /home/victor/datasets/VOC_FORMS_RGB_BOAT/train\n",
      "Created directory /home/victor/datasets/VOC_FORMS_RGB_BOAT/train/images\n",
      "Created directory /home/victor/datasets/VOC_FORMS_RGB_BOAT/val\n",
      "Created directory /home/victor/datasets/VOC_FORMS_RGB_BOAT/val/images\n"
     ]
    },
    {
     "name": "stderr",
     "output_type": "stream",
     "text": [
      " 20%|██        | 4/20 [01:00<04:02, 15.16s/it]"
     ]
    },
    {
     "name": "stdout",
     "output_type": "stream",
     "text": [
      "Created directory /home/victor/datasets/VOC_FORMS_RGB_BOTTLE/train\n",
      "Created directory /home/victor/datasets/VOC_FORMS_RGB_BOTTLE/train/images\n",
      "Created directory /home/victor/datasets/VOC_FORMS_RGB_BOTTLE/val\n",
      "Created directory /home/victor/datasets/VOC_FORMS_RGB_BOTTLE/val/images\n"
     ]
    },
    {
     "name": "stderr",
     "output_type": "stream",
     "text": [
      " 25%|██▌       | 5/20 [01:15<03:47, 15.15s/it]"
     ]
    },
    {
     "name": "stdout",
     "output_type": "stream",
     "text": [
      "Created directory /home/victor/datasets/VOC_FORMS_RGB_BUS/train\n",
      "Created directory /home/victor/datasets/VOC_FORMS_RGB_BUS/train/images\n",
      "Created directory /home/victor/datasets/VOC_FORMS_RGB_BUS/val\n",
      "Created directory /home/victor/datasets/VOC_FORMS_RGB_BUS/val/images\n"
     ]
    },
    {
     "name": "stderr",
     "output_type": "stream",
     "text": [
      " 30%|███       | 6/20 [01:30<03:31, 15.12s/it]"
     ]
    },
    {
     "name": "stdout",
     "output_type": "stream",
     "text": [
      "Created directory /home/victor/datasets/VOC_FORMS_RGB_CAR/train\n",
      "Created directory /home/victor/datasets/VOC_FORMS_RGB_CAR/train/images\n",
      "Created directory /home/victor/datasets/VOC_FORMS_RGB_CAR/val\n",
      "Created directory /home/victor/datasets/VOC_FORMS_RGB_CAR/val/images\n"
     ]
    },
    {
     "name": "stderr",
     "output_type": "stream",
     "text": [
      " 35%|███▌      | 7/20 [01:46<03:18, 15.23s/it]"
     ]
    },
    {
     "name": "stdout",
     "output_type": "stream",
     "text": [
      "Created directory /home/victor/datasets/VOC_FORMS_RGB_CAT/train\n",
      "Created directory /home/victor/datasets/VOC_FORMS_RGB_CAT/train/images\n",
      "Created directory /home/victor/datasets/VOC_FORMS_RGB_CAT/val\n",
      "Created directory /home/victor/datasets/VOC_FORMS_RGB_CAT/val/images\n"
     ]
    },
    {
     "name": "stderr",
     "output_type": "stream",
     "text": [
      " 40%|████      | 8/20 [02:01<03:03, 15.31s/it]"
     ]
    },
    {
     "name": "stdout",
     "output_type": "stream",
     "text": [
      "Created directory /home/victor/datasets/VOC_FORMS_RGB_CHAIR/train\n",
      "Created directory /home/victor/datasets/VOC_FORMS_RGB_CHAIR/train/images\n",
      "Created directory /home/victor/datasets/VOC_FORMS_RGB_CHAIR/val\n",
      "Created directory /home/victor/datasets/VOC_FORMS_RGB_CHAIR/val/images\n"
     ]
    },
    {
     "name": "stderr",
     "output_type": "stream",
     "text": [
      " 45%|████▌     | 9/20 [02:17<02:49, 15.37s/it]"
     ]
    },
    {
     "name": "stdout",
     "output_type": "stream",
     "text": [
      "Created directory /home/victor/datasets/VOC_FORMS_RGB_COW/train\n",
      "Created directory /home/victor/datasets/VOC_FORMS_RGB_COW/train/images\n",
      "Created directory /home/victor/datasets/VOC_FORMS_RGB_COW/val\n",
      "Created directory /home/victor/datasets/VOC_FORMS_RGB_COW/val/images\n"
     ]
    },
    {
     "name": "stderr",
     "output_type": "stream",
     "text": [
      " 50%|█████     | 10/20 [02:32<02:32, 15.21s/it]"
     ]
    },
    {
     "name": "stdout",
     "output_type": "stream",
     "text": [
      "Created directory /home/victor/datasets/VOC_FORMS_RGB_DININGTABLE/train\n",
      "Created directory /home/victor/datasets/VOC_FORMS_RGB_DININGTABLE/train/images\n",
      "Created directory /home/victor/datasets/VOC_FORMS_RGB_DININGTABLE/val\n",
      "Created directory /home/victor/datasets/VOC_FORMS_RGB_DININGTABLE/val/images\n"
     ]
    },
    {
     "name": "stderr",
     "output_type": "stream",
     "text": [
      " 55%|█████▌    | 11/20 [02:47<02:16, 15.13s/it]"
     ]
    },
    {
     "name": "stdout",
     "output_type": "stream",
     "text": [
      "Created directory /home/victor/datasets/VOC_FORMS_RGB_DOG/train\n",
      "Created directory /home/victor/datasets/VOC_FORMS_RGB_DOG/train/images\n",
      "Created directory /home/victor/datasets/VOC_FORMS_RGB_DOG/val\n",
      "Created directory /home/victor/datasets/VOC_FORMS_RGB_DOG/val/images\n"
     ]
    },
    {
     "name": "stderr",
     "output_type": "stream",
     "text": [
      " 60%|██████    | 12/20 [03:02<02:01, 15.22s/it]"
     ]
    },
    {
     "name": "stdout",
     "output_type": "stream",
     "text": [
      "Created directory /home/victor/datasets/VOC_FORMS_RGB_HORSE/train\n",
      "Created directory /home/victor/datasets/VOC_FORMS_RGB_HORSE/train/images\n",
      "Created directory /home/victor/datasets/VOC_FORMS_RGB_HORSE/val\n",
      "Created directory /home/victor/datasets/VOC_FORMS_RGB_HORSE/val/images\n"
     ]
    },
    {
     "name": "stderr",
     "output_type": "stream",
     "text": [
      " 65%|██████▌   | 13/20 [03:17<01:45, 15.12s/it]"
     ]
    },
    {
     "name": "stdout",
     "output_type": "stream",
     "text": [
      "Created directory /home/victor/datasets/VOC_FORMS_RGB_MOTORBIKE/train\n",
      "Created directory /home/victor/datasets/VOC_FORMS_RGB_MOTORBIKE/train/images\n",
      "Created directory /home/victor/datasets/VOC_FORMS_RGB_MOTORBIKE/val\n",
      "Created directory /home/victor/datasets/VOC_FORMS_RGB_MOTORBIKE/val/images\n"
     ]
    },
    {
     "name": "stderr",
     "output_type": "stream",
     "text": [
      " 70%|███████   | 14/20 [03:32<01:30, 15.07s/it]"
     ]
    },
    {
     "name": "stdout",
     "output_type": "stream",
     "text": [
      "Created directory /home/victor/datasets/VOC_FORMS_RGB_PERSON/train\n",
      "Created directory /home/victor/datasets/VOC_FORMS_RGB_PERSON/train/images\n",
      "Created directory /home/victor/datasets/VOC_FORMS_RGB_PERSON/val\n",
      "Created directory /home/victor/datasets/VOC_FORMS_RGB_PERSON/val/images\n"
     ]
    },
    {
     "name": "stderr",
     "output_type": "stream",
     "text": [
      " 75%|███████▌  | 15/20 [03:50<01:20, 16.10s/it]"
     ]
    },
    {
     "name": "stdout",
     "output_type": "stream",
     "text": [
      "Created directory /home/victor/datasets/VOC_FORMS_RGB_POTTEDPLANT/train\n",
      "Created directory /home/victor/datasets/VOC_FORMS_RGB_POTTEDPLANT/train/images\n",
      "Created directory /home/victor/datasets/VOC_FORMS_RGB_POTTEDPLANT/val\n",
      "Created directory /home/victor/datasets/VOC_FORMS_RGB_POTTEDPLANT/val/images\n"
     ]
    },
    {
     "name": "stderr",
     "output_type": "stream",
     "text": [
      " 80%|████████  | 16/20 [04:05<01:03, 15.76s/it]"
     ]
    },
    {
     "name": "stdout",
     "output_type": "stream",
     "text": [
      "Created directory /home/victor/datasets/VOC_FORMS_RGB_SHEEP/train\n",
      "Created directory /home/victor/datasets/VOC_FORMS_RGB_SHEEP/train/images\n",
      "Created directory /home/victor/datasets/VOC_FORMS_RGB_SHEEP/val\n",
      "Created directory /home/victor/datasets/VOC_FORMS_RGB_SHEEP/val/images\n"
     ]
    },
    {
     "name": "stderr",
     "output_type": "stream",
     "text": [
      " 85%|████████▌ | 17/20 [04:20<00:46, 15.47s/it]"
     ]
    },
    {
     "name": "stdout",
     "output_type": "stream",
     "text": [
      "Created directory /home/victor/datasets/VOC_FORMS_RGB_SOFA/train\n",
      "Created directory /home/victor/datasets/VOC_FORMS_RGB_SOFA/train/images\n",
      "Created directory /home/victor/datasets/VOC_FORMS_RGB_SOFA/val\n",
      "Created directory /home/victor/datasets/VOC_FORMS_RGB_SOFA/val/images\n"
     ]
    },
    {
     "name": "stderr",
     "output_type": "stream",
     "text": [
      " 90%|█████████ | 18/20 [04:35<00:30, 15.35s/it]"
     ]
    },
    {
     "name": "stdout",
     "output_type": "stream",
     "text": [
      "Created directory /home/victor/datasets/VOC_FORMS_RGB_TRAIN/train\n",
      "Created directory /home/victor/datasets/VOC_FORMS_RGB_TRAIN/train/images\n",
      "Created directory /home/victor/datasets/VOC_FORMS_RGB_TRAIN/val\n",
      "Created directory /home/victor/datasets/VOC_FORMS_RGB_TRAIN/val/images\n"
     ]
    },
    {
     "name": "stderr",
     "output_type": "stream",
     "text": [
      " 95%|█████████▌| 19/20 [04:50<00:15, 15.27s/it]"
     ]
    },
    {
     "name": "stdout",
     "output_type": "stream",
     "text": [
      "Created directory /home/victor/datasets/VOC_FORMS_RGB_TVMONITOR/train\n",
      "Created directory /home/victor/datasets/VOC_FORMS_RGB_TVMONITOR/train/images\n",
      "Created directory /home/victor/datasets/VOC_FORMS_RGB_TVMONITOR/val\n",
      "Created directory /home/victor/datasets/VOC_FORMS_RGB_TVMONITOR/val/images\n"
     ]
    },
    {
     "name": "stderr",
     "output_type": "stream",
     "text": [
      "100%|██████████| 20/20 [05:05<00:00, 15.29s/it]\n"
     ]
    }
   ],
   "source": [
    "## Binary ##\n",
    "gen_df_from_voc(\n",
    "    path.join(DT_DEST_BINARY, \"train\"), dt_train, generator_fn=gen_example_from_voc\n",
    ")\n",
    "gen_df_from_voc(path.join(DT_DEST_BINARY, \"val\"), dt_val, generator_fn=gen_example_from_voc)\n",
    "\n",
    "## RGB RANDOM CLASS ##\n",
    "gen_df_from_voc(\n",
    "    path.join(DT_DEST_RGB_RANDOM, \"train\"),\n",
    "    dt_train,\n",
    "    generator_fn=random_class_mask_generator,\n",
    ")\n",
    "gen_df_from_voc(\n",
    "    path.join(DT_DEST_RGB_RANDOM, \"val\"), dt_val, generator_fn=random_class_mask_generator\n",
    ")\n",
    "\n",
    "\n",
    "## RGB SINGLE CLASS ##\n",
    "for cl in tqdm(object_categories):\n",
    "    generator_fn = partial(class_mask_generator, cl=1 + object_categories.index(cl))\n",
    "    gen_df_from_voc(\n",
    "        path.join(DT_DEST_RGB_SINGLE_CLASS(cl), 'train'),\n",
    "        dt_train,\n",
    "        generator_fn=generator_fn\n",
    "    )\n",
    "    gen_df_from_voc(\n",
    "        path.join(DT_DEST_RGB_SINGLE_CLASS(cl), 'val'),\n",
    "        dt_val,\n",
    "        generator_fn=generator_fn\n",
    "    )"
   ]
  }
 ],
 "metadata": {
  "kernelspec": {
   "display_name": "Python 3",
   "language": "python",
   "name": "python3"
  },
  "language_info": {
   "codemirror_mode": {
    "name": "ipython",
    "version": 3
   },
   "file_extension": ".py",
   "mimetype": "text/x-python",
   "name": "python",
   "nbconvert_exporter": "python",
   "pygments_lexer": "ipython3",
   "version": "3.6.8"
  }
 },
 "nbformat": 4,
 "nbformat_minor": 4
}
