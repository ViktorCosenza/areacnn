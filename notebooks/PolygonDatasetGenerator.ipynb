{
 "cells": [
  {
   "cell_type": "code",
   "execution_count": 1,
   "metadata": {},
   "outputs": [],
   "source": [
    "from tqdm import tqdm\n",
    "from os import path\n",
    "\n",
    "## Local Imports ##\n",
    "from datasets import helpers as dataset_helpers"
   ]
  },
  {
   "cell_type": "markdown",
   "metadata": {
    "colab_type": "text",
    "id": "QLVyf1-umCV2"
   },
   "source": [
    "## Dataset"
   ]
  },
  {
   "cell_type": "code",
   "execution_count": 2,
   "metadata": {},
   "outputs": [
    {
     "name": "stderr",
     "output_type": "stream",
     "text": [
      "  0%|          | 0/4 [00:00<?, ?it/s]"
     ]
    },
    {
     "name": "stdout",
     "output_type": "stream",
     "text": [
      "Created directory /home/victor/Git/areacnn/data/polygon_data_counts/train\n",
      "Created directory /home/victor/Git/areacnn/data/polygon_data_counts/train/images\n",
      "Created directory /home/victor/Git/areacnn/data/polygon_data_counts/test\n",
      "Created directory /home/victor/Git/areacnn/data/polygon_data_counts/test/images\n"
     ]
    },
    {
     "name": "stderr",
     "output_type": "stream",
     "text": [
      " 25%|██▌       | 1/4 [01:04<03:14, 64.82s/it]"
     ]
    },
    {
     "name": "stdout",
     "output_type": "stream",
     "text": [
      "Created directory /home/victor/Git/areacnn/data/polygon_data_percentage/train\n",
      "Created directory /home/victor/Git/areacnn/data/polygon_data_percentage/train/images\n",
      "Created directory /home/victor/Git/areacnn/data/polygon_data_percentage/test\n",
      "Created directory /home/victor/Git/areacnn/data/polygon_data_percentage/test/images\n"
     ]
    },
    {
     "name": "stderr",
     "output_type": "stream",
     "text": [
      " 50%|█████     | 2/4 [02:09<02:09, 64.90s/it]"
     ]
    },
    {
     "name": "stdout",
     "output_type": "stream",
     "text": [
      "Created directory /home/victor/Git/areacnn/data/ellipse_data_counts/train\n",
      "Created directory /home/victor/Git/areacnn/data/ellipse_data_counts/train/images\n",
      "Created directory /home/victor/Git/areacnn/data/ellipse_data_counts/test\n",
      "Created directory /home/victor/Git/areacnn/data/ellipse_data_counts/test/images\n"
     ]
    },
    {
     "name": "stderr",
     "output_type": "stream",
     "text": [
      " 75%|███████▌  | 3/4 [03:16<01:05, 65.44s/it]"
     ]
    },
    {
     "name": "stdout",
     "output_type": "stream",
     "text": [
      "Created directory /home/victor/Git/areacnn/data/ellipse_data_percentage/train\n",
      "Created directory /home/victor/Git/areacnn/data/ellipse_data_percentage/train/images\n",
      "Created directory /home/victor/Git/areacnn/data/ellipse_data_percentage/test\n",
      "Created directory /home/victor/Git/areacnn/data/ellipse_data_percentage/test/images\n"
     ]
    },
    {
     "name": "stderr",
     "output_type": "stream",
     "text": [
      "100%|██████████| 4/4 [04:23<00:00, 65.82s/it]"
     ]
    },
    {
     "name": "stdout",
     "output_type": "stream",
     "text": [
      "DONE!\n"
     ]
    },
    {
     "name": "stderr",
     "output_type": "stream",
     "text": [
      "\n"
     ]
    }
   ],
   "source": [
    "ROOT_DIR = 'data'\n",
    "DT_LEN = 20000\n",
    "W, H = 128, 128\n",
    "\n",
    "DATASETS = [\n",
    "        {\"root_dir\": path.join(ROOT_DIR, \"polygon_data_counts\"), \"count\": True, \"skip\": False},\n",
    "        {\"root_dir\": path.join(ROOT_DIR, \"polygon_data_percentage\"), \"count\": False, \"skip\": False},\n",
    "        {\"root_dir\": path.join(ROOT_DIR, \"ellipse_data_counts\"), \"count\": True, \"skip\": False, \"draw_polygon_fn\": dataset_helpers.draw_ellipse},\n",
    "        {\"root_dir\": path.join(ROOT_DIR, \"ellipse_data_percentage\"), \"count\": False, \"skip\": False, \"draw_polygon_fn\": dataset_helpers.draw_ellipse}\n",
    "    ]\n",
    "\n",
    "for dataset in tqdm(DATASETS):\n",
    "    df_train = dataset_helpers.gen_df(dt_len=DT_LEN, test=False, img_size=(W, H), **dataset)\n",
    "    df_test  = dataset_helpers.gen_df(dt_len=int(DT_LEN * 0.8), test=True, img_size=(W, H), **dataset)\n",
    "print(\"DONE!\")"
   ]
  },
  {
   "cell_type": "code",
   "execution_count": 4,
   "metadata": {},
   "outputs": [],
   "source": [
    "im, area = dataset_helpers.gen_example(128, 128, count=True)"
   ]
  },
  {
   "cell_type": "code",
   "execution_count": 5,
   "metadata": {},
   "outputs": [
    {
     "data": {
      "image/png": "[encoded data removed]",
      "text/plain": [
       "<PIL.Image.Image image mode=1 size=128x128 at 0x7F21F409AB70>"
      ]
     },
     "execution_count": 5,
     "metadata": {},
     "output_type": "execute_result"
    }
   ],
   "source": [
    "im"
   ]
  },
  {
   "cell_type": "code",
   "execution_count": 7,
   "metadata": {},
   "outputs": [
    {
     "data": {
      "text/plain": [
       "6723.0"
      ]
     },
     "execution_count": 7,
     "metadata": {},
     "output_type": "execute_result"
    }
   ],
   "source": [
    "area"
   ]
  },
  {
   "cell_type": "code",
   "execution_count": 40,
   "metadata": {},
   "outputs": [
    {
     "data": {
      "image/png": "[encoded data removed]",
      "text/plain": [
       "<PIL.Image.Image image mode=1 size=800x1280 at 0x7F21F0410B38>"
      ]
     },
     "execution_count": 40,
     "metadata": {},
     "output_type": "execute_result"
    }
   ],
   "source": [
    "from PIL import Image\n",
    "import numpy as np\n",
    "Image.new('1', (800,1280), (0))"
   ]
  },
  {
   "cell_type": "code",
   "execution_count": 26,
   "metadata": {},
   "outputs": [
    {
     "data": {
      "text/plain": [
       "array([[1, 1, 1, ..., 1, 1, 1],\n",
       "       [1, 1, 1, ..., 1, 1, 1],\n",
       "       [1, 1, 1, ..., 1, 1, 1],\n",
       "       ...,\n",
       "       [1, 1, 1, ..., 1, 1, 1],\n",
       "       [1, 1, 1, ..., 1, 1, 1],\n",
       "       [1, 1, 1, ..., 1, 1, 1]])"
      ]
     },
     "execution_count": 26,
     "metadata": {},
     "output_type": "execute_result"
    }
   ],
   "source": [
    "np.full((512, 512), 1)"
   ]
  },
  {
   "cell_type": "code",
   "execution_count": null,
   "metadata": {},
   "outputs": [],
   "source": []
  }
 ],
 "metadata": {
  "accelerator": "GPU",
  "colab": {
   "collapsed_sections": [],
   "machine_shape": "hm",
   "name": "PolygonDatasetGenerator.ipynb",
   "provenance": []
  },
  "kernelspec": {
   "display_name": "Python 3",
   "language": "python",
   "name": "python3"
  },
  "language_info": {
   "codemirror_mode": {
    "name": "ipython",
    "version": 3
   },
   "file_extension": ".py",
   "mimetype": "text/x-python",
   "name": "python",
   "nbconvert_exporter": "python",
   "pygments_lexer": "ipython3",
   "version": "3.6.8"
  }
 },
 "nbformat": 4,
 "nbformat_minor": 4
}
