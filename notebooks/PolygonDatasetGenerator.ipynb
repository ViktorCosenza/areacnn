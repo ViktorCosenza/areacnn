{
 "cells": [
  {
   "cell_type": "code",
   "execution_count": 1,
   "metadata": {},
   "outputs": [],
   "source": [
    "from tqdm import tqdm\n",
    "from os import path\n",
    "\n",
    "## Local Imports ##\n",
    "from datasets import helpers as dataset_helpers"
   ]
  },
  {
   "cell_type": "markdown",
   "metadata": {
    "colab_type": "text",
    "id": "QLVyf1-umCV2"
   },
   "source": [
    "## Dataset"
   ]
  },
  {
   "cell_type": "code",
   "execution_count": null,
   "metadata": {},
   "outputs": [],
   "source": [
    "ROOT_DIR = \"data\"\n",
    "DT_LEN = 20000\n",
    "W, H = 128, 128\n",
    "\n",
    "DATASETS = [\n",
    "    {\n",
    "        \"root_dir\": path.join(ROOT_DIR, \"polygon_data_counts\"),\n",
    "        \"skip\": True,\n",
    "        \"gen_example_fn\": partial(\n",
    "            dataset_helpers.gen_binary_example,\n",
    "            count=True,\n",
    "            draw_polygon_fn=dataset_helpers.draw_rectangle\n",
    "        )\n",
    "    },\n",
    "    {\n",
    "        \"root_dir\": path.join(ROOT_DIR, \"polygon_data_percentage\"),\n",
    "        \"skip\": True,\n",
    "        \"gen_example_fn\": partial(\n",
    "            dataset_helpers.gen_binary_example,\n",
    "            count=False,\n",
    "            draw_polygon_fn=dataset_helpers.draw_rectangle\n",
    "        )\n",
    "    },\n",
    "    {\n",
    "        \"root_dir\": path.join(ROOT_DIR, \"ellipse_data_counts\"),\n",
    "        \"skip\": True,\n",
    "        \"gen_example_fn\": partial(\n",
    "            dataset_helpers.gen_binary_example,\n",
    "            count=False,\n",
    "            draw_polygon_fn=dataset_helpers.draw_ellipse\n",
    "        ),\n",
    "    },\n",
    "    {\n",
    "        \"root_dir\": path.join(ROOT_DIR, \"ellipse_data_percentage\"),\n",
    "        \"skip\": True,\n",
    "        \"gen_example_fn\": partial(\n",
    "            dataset_helpers.gen_binary_example, \n",
    "            count=False\n",
    "            draw_polygon_fn=dataset_helpers.draw_ellipse\n",
    "        ),\n",
    "    },\n",
    "    {\n",
    "        \"root_dir\", path.join(ROOT_DIR, \"rect_colored_count\"),\n",
    "    }\n",
    "]\n",
    "\n",
    "for dataset in tqdm(DATASETS):\n",
    "    df_train = dataset_helpers.gen_df(\n",
    "        dt_len=DT_LEN, test=False, img_size=(W, H), **dataset\n",
    "    )\n",
    "    df_test = dataset_helpers.gen_df(\n",
    "        dt_len=int(DT_LEN * 0.8), test=True, img_size=(W, H), **dataset\n",
    "    )\n",
    "print(\"DONE!\")"
   ]
  }
 ],
 "metadata": {
  "accelerator": "GPU",
  "colab": {
   "collapsed_sections": [],
   "machine_shape": "hm",
   "name": "PolygonDatasetGenerator.ipynb",
   "provenance": []
  },
  "kernelspec": {
   "display_name": "Python 3",
   "language": "python",
   "name": "python3"
  },
  "language_info": {
   "codemirror_mode": {
    "name": "ipython",
    "version": 3
   },
   "file_extension": ".py",
   "mimetype": "text/x-python",
   "name": "python",
   "nbconvert_exporter": "python",
   "pygments_lexer": "ipython3",
   "version": "3.6.8"
  }
 },
 "nbformat": 4,
 "nbformat_minor": 4
}
