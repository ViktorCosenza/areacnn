{
 "cells": [
  {
   "cell_type": "code",
   "execution_count": 1,
   "metadata": {},
   "outputs": [],
   "source": [
    "import torch\n",
    "\n",
    "from torch import nn\n",
    "from torch.utils import data\n",
    "from torch.nn import functional as F\n",
    "\n",
    "from torchvision import transforms\n",
    "from random import randint\n",
    "\n",
    "import sys\n",
    "import os\n",
    "from os import path\n",
    "\n",
    "import pandas as pd\n",
    "\n",
    "from functools import partial, reduce\n",
    "from tqdm import tqdm\n",
    "\n",
    "import datetime\n",
    "\n",
    "## Local Imports ##\n",
    "if '../' not in sys.path:\n",
    "    sys.path.insert(0, '../')\n",
    "from models import helpers as model_helpers, model_definitions as custom_models\n",
    "from datasets import helpers as dataset_helpers, datasets as custom_datasets\n",
    "\n",
    "from train_single_script import create_arg_str\n",
    "\n",
    "from VOC import DT_DEST_RGB_RANDOM, DT_DEST_RGB_SINGLE_CLASS "
   ]
  },
  {
   "cell_type": "code",
   "execution_count": 2,
   "metadata": {},
   "outputs": [],
   "source": [
    "# Channel, Width, Height\n",
    "C, W, H = (3, 224, 224)\n",
    "\n",
    "TRAIN_SINGLE_PATH = './train_single_script.py'\n",
    "\n",
    "DEVICE = 'cuda' if torch.cuda.is_available() else 'cpu'\n",
    "DT_ROOT = 'data'\n",
    "POLYGON_COUNT_DIR = path.join(DT_ROOT, 'polygon_data_counts')\n",
    "POLYGON_PERCENTAGE_DIR = path.join(DT_ROOT, 'polygon_data_percentage')\n",
    "\n",
    "ELLIPSE_COUNT_DIR = path.join(DT_ROOT, 'ellipse_data_counts')\n",
    "ELLIPSE_PERCENTAGE_DIR = path.join(DT_ROOT, 'ellipse_data_percentage')\n",
    "\n",
    "VOC_SEGS_COUNTS_DIR = path.join('/home', 'victor', 'datasets', 'VOC_FORMS')"
   ]
  },
  {
   "cell_type": "code",
   "execution_count": 3,
   "metadata": {},
   "outputs": [],
   "source": [
    "## Grid Search Params ##\n",
    "MODELS = custom_models.get_models(input_size=(C, W, H))\n",
    "MODELS = [\n",
    "    MODELS['MLP'], \n",
    "    MODELS['SMALLER_MLP_2'], \n",
    "    MODELS['SMALLER_MLP_3'], \n",
    "    MODELS['SMALLER_MLP_3_3'], \n",
    "    MODELS['PERCEPTRON'], \n",
    "    MODELS['RESNET_34']\n",
    "]\n",
    "MODELS = map(lambda p: p.name, MODELS)\n",
    "MODELS = list(MODELS)\n",
    "\n",
    "DATASETS = [DT_DEST_RGB_RANDOM, DT_DEST_RGB_SINGLE_CLASS('AEROPLANE')]\n",
    "OPTIMS = [\"ADAM\", \"SGD\"]\n",
    "LOSS_FNS = [\"L1LOSS\"]"
   ]
  },
  {
   "cell_type": "code",
   "execution_count": 4,
   "metadata": {},
   "outputs": [
    {
     "name": "stdout",
     "output_type": "stream",
     "text": [
      "Will train 24 models\n",
      "6 MODELS\n",
      "2 DATASETS\n",
      "1 LOSS_FNS\n",
      "2 OPTIMS\n",
      "Device: cuda\n"
     ]
    }
   ],
   "source": [
    "grid = model_helpers.new_grid_search(MODELS, OPTIMS, LOSS_FNS)\n",
    "grid = list(grid)\n",
    "\n",
    "print(f\"Will train {len(LOSS_FNS) * len(MODELS) * len(DATASETS) * len(OPTIMS)} models\")\n",
    "print(f\"{len(MODELS)} MODELS\")\n",
    "print(f\"{len(DATASETS)} DATASETS\")\n",
    "print(f\"{len(LOSS_FNS)} LOSS_FNS\")\n",
    "print(f\"{len(OPTIMS)} OPTIMS\")\n",
    "print(f\"Device: {DEVICE}\")"
   ]
  },
  {
   "cell_type": "code",
   "execution_count": 5,
   "metadata": {},
   "outputs": [
    {
     "name": "stdout",
     "output_type": "stream",
     "text": [
      "Epochs: 50\n",
      "BS: 32\n",
      "Timestamp: 2019-12-23_17-2-35\n"
     ]
    }
   ],
   "source": [
    "curr_time = datetime.datetime.now()\n",
    "CURR_TIME_STR = (f\"{curr_time.year}-{curr_time.month}-{curr_time.day}_\"\n",
    "                 f\"{curr_time.hour}-{curr_time.minute}-{curr_time.second}\")\n",
    "MAX_EPOCHS = 50\n",
    "BS = 32\n",
    "\n",
    "BASE_ARGS = {\n",
    "    \"C\"        : C,\n",
    "    \"H\"        : H,\n",
    "    \"W\"        : W,\n",
    "    \"bs\"       : BS,\n",
    "    \"epochs\"   : MAX_EPOCHS,\n",
    "    \"device\"   : DEVICE,\n",
    "    \"id\"       : CURR_TIME_STR\n",
    "}\n",
    "\n",
    "print(f\"Epochs: {MAX_EPOCHS}\")\n",
    "print(f\"BS: {BS}\")\n",
    "print(f\"Timestamp: {CURR_TIME_STR}\")"
   ]
  },
  {
   "cell_type": "code",
   "execution_count": 7,
   "metadata": {},
   "outputs": [
    {
     "name": "stderr",
     "output_type": "stream",
     "text": [
      "\n",
      "\n",
      "  0%|          | 0/2 [00:00<?, ?it/s]\u001b[A\u001b[A\n",
      "\n",
      "\n",
      "  0%|          | 0/12 [00:00<?, ?it/s]\u001b[A\u001b[A\u001b[A"
     ]
    },
    {
     "name": "stdout",
     "output_type": "stream",
     "text": [
      "Performing sanity check...\n",
      "python3 ./train_single_script.py -model MLP -optim ADAM -loss_fn L1LOSS -dataset /home/victor/datasets/VOC_FORMS_RGB -bs 32 -epochs 50 -device cuda -C 3 -W 224 -H 224 -id 2019-12-23_17-2-35 --sanity >> logs/out_2019-12-23_17-2-35.log\n"
     ]
    },
    {
     "name": "stderr",
     "output_type": "stream",
     "text": [
      "\n",
      "\n",
      "\n",
      "  8%|▊         | 1/12 [00:04<00:45,  4.11s/it]\u001b[A\u001b[A\u001b[A"
     ]
    },
    {
     "name": "stdout",
     "output_type": "stream",
     "text": [
      "python3 ./train_single_script.py -model MLP -optim SGD -loss_fn L1LOSS -dataset /home/victor/datasets/VOC_FORMS_RGB -bs 32 -epochs 50 -device cuda -C 3 -W 224 -H 224 -id 2019-12-23_17-2-35 --sanity >> logs/out_2019-12-23_17-2-35.log\n"
     ]
    },
    {
     "name": "stderr",
     "output_type": "stream",
     "text": [
      "\n",
      "\n",
      "\n",
      " 17%|█▋        | 2/12 [00:08<00:41,  4.10s/it]\u001b[A\u001b[A\u001b[A"
     ]
    },
    {
     "name": "stdout",
     "output_type": "stream",
     "text": [
      "python3 ./train_single_script.py -model SMALLER_MLP_2 -optim ADAM -loss_fn L1LOSS -dataset /home/victor/datasets/VOC_FORMS_RGB -bs 32 -epochs 50 -device cuda -C 3 -W 224 -H 224 -id 2019-12-23_17-2-35 --sanity >> logs/out_2019-12-23_17-2-35.log\n"
     ]
    },
    {
     "name": "stderr",
     "output_type": "stream",
     "text": [
      "\n",
      "\n",
      "\n",
      " 25%|██▌       | 3/12 [00:11<00:34,  3.88s/it]\u001b[A\u001b[A\u001b[A"
     ]
    },
    {
     "name": "stdout",
     "output_type": "stream",
     "text": [
      "python3 ./train_single_script.py -model SMALLER_MLP_2 -optim SGD -loss_fn L1LOSS -dataset /home/victor/datasets/VOC_FORMS_RGB -bs 32 -epochs 50 -device cuda -C 3 -W 224 -H 224 -id 2019-12-23_17-2-35 --sanity >> logs/out_2019-12-23_17-2-35.log\n"
     ]
    },
    {
     "name": "stderr",
     "output_type": "stream",
     "text": [
      "\n",
      "\n",
      "\n",
      " 33%|███▎      | 4/12 [00:14<00:29,  3.72s/it]\u001b[A\u001b[A\u001b[A"
     ]
    },
    {
     "name": "stdout",
     "output_type": "stream",
     "text": [
      "python3 ./train_single_script.py -model SMALLER_MLP_3 -optim ADAM -loss_fn L1LOSS -dataset /home/victor/datasets/VOC_FORMS_RGB -bs 32 -epochs 50 -device cuda -C 3 -W 224 -H 224 -id 2019-12-23_17-2-35 --sanity >> logs/out_2019-12-23_17-2-35.log\n"
     ]
    },
    {
     "name": "stderr",
     "output_type": "stream",
     "text": [
      "\n",
      "\n",
      "\n",
      " 42%|████▏     | 5/12 [00:18<00:25,  3.62s/it]\u001b[A\u001b[A\u001b[A"
     ]
    },
    {
     "name": "stdout",
     "output_type": "stream",
     "text": [
      "python3 ./train_single_script.py -model SMALLER_MLP_3 -optim SGD -loss_fn L1LOSS -dataset /home/victor/datasets/VOC_FORMS_RGB -bs 32 -epochs 50 -device cuda -C 3 -W 224 -H 224 -id 2019-12-23_17-2-35 --sanity >> logs/out_2019-12-23_17-2-35.log\n"
     ]
    },
    {
     "name": "stderr",
     "output_type": "stream",
     "text": [
      "\n",
      "\n",
      "\n",
      " 50%|█████     | 6/12 [00:21<00:21,  3.54s/it]\u001b[A\u001b[A\u001b[A"
     ]
    },
    {
     "name": "stdout",
     "output_type": "stream",
     "text": [
      "python3 ./train_single_script.py -model SMALLER_MLP_3_3 -optim ADAM -loss_fn L1LOSS -dataset /home/victor/datasets/VOC_FORMS_RGB -bs 32 -epochs 50 -device cuda -C 3 -W 224 -H 224 -id 2019-12-23_17-2-35 --sanity >> logs/out_2019-12-23_17-2-35.log\n"
     ]
    },
    {
     "name": "stderr",
     "output_type": "stream",
     "text": [
      "\n",
      "\n",
      "\n",
      " 58%|█████▊    | 7/12 [00:25<00:17,  3.49s/it]\u001b[A\u001b[A\u001b[A"
     ]
    },
    {
     "name": "stdout",
     "output_type": "stream",
     "text": [
      "python3 ./train_single_script.py -model SMALLER_MLP_3_3 -optim SGD -loss_fn L1LOSS -dataset /home/victor/datasets/VOC_FORMS_RGB -bs 32 -epochs 50 -device cuda -C 3 -W 224 -H 224 -id 2019-12-23_17-2-35 --sanity >> logs/out_2019-12-23_17-2-35.log\n"
     ]
    },
    {
     "name": "stderr",
     "output_type": "stream",
     "text": [
      "\n",
      "\n",
      "\n",
      " 67%|██████▋   | 8/12 [00:28<00:13,  3.45s/it]\u001b[A\u001b[A\u001b[A"
     ]
    },
    {
     "name": "stdout",
     "output_type": "stream",
     "text": [
      "python3 ./train_single_script.py -model PERCEPTRON -optim ADAM -loss_fn L1LOSS -dataset /home/victor/datasets/VOC_FORMS_RGB -bs 32 -epochs 50 -device cuda -C 3 -W 224 -H 224 -id 2019-12-23_17-2-35 --sanity >> logs/out_2019-12-23_17-2-35.log\n"
     ]
    },
    {
     "name": "stderr",
     "output_type": "stream",
     "text": [
      "\n",
      "\n",
      "\n",
      " 75%|███████▌  | 9/12 [00:31<00:10,  3.43s/it]\u001b[A\u001b[A\u001b[A"
     ]
    },
    {
     "name": "stdout",
     "output_type": "stream",
     "text": [
      "python3 ./train_single_script.py -model PERCEPTRON -optim SGD -loss_fn L1LOSS -dataset /home/victor/datasets/VOC_FORMS_RGB -bs 32 -epochs 50 -device cuda -C 3 -W 224 -H 224 -id 2019-12-23_17-2-35 --sanity >> logs/out_2019-12-23_17-2-35.log\n"
     ]
    },
    {
     "name": "stderr",
     "output_type": "stream",
     "text": [
      "\n",
      "\n",
      "\n",
      " 83%|████████▎ | 10/12 [00:35<00:06,  3.41s/it]\u001b[A\u001b[A\u001b[A"
     ]
    },
    {
     "name": "stdout",
     "output_type": "stream",
     "text": [
      "python3 ./train_single_script.py -model RESNET_34 -optim ADAM -loss_fn L1LOSS -dataset /home/victor/datasets/VOC_FORMS_RGB -bs 32 -epochs 50 -device cuda -C 3 -W 224 -H 224 -id 2019-12-23_17-2-35 --sanity >> logs/out_2019-12-23_17-2-35.log\n"
     ]
    },
    {
     "name": "stderr",
     "output_type": "stream",
     "text": [
      "\n",
      "\n",
      "\n",
      " 92%|█████████▏| 11/12 [00:39<00:03,  3.81s/it]\u001b[A\u001b[A\u001b[A"
     ]
    },
    {
     "name": "stdout",
     "output_type": "stream",
     "text": [
      "python3 ./train_single_script.py -model RESNET_34 -optim SGD -loss_fn L1LOSS -dataset /home/victor/datasets/VOC_FORMS_RGB -bs 32 -epochs 50 -device cuda -C 3 -W 224 -H 224 -id 2019-12-23_17-2-35 --sanity >> logs/out_2019-12-23_17-2-35.log\n"
     ]
    },
    {
     "name": "stderr",
     "output_type": "stream",
     "text": [
      "\n",
      "\n",
      "\n",
      "100%|██████████| 12/12 [00:44<00:00,  3.71s/it]\u001b[A\u001b[A\u001b[A\n",
      "\n",
      "\n",
      " 50%|█████     | 1/2 [00:44<00:44, 44.52s/it]\u001b[A\u001b[A\n",
      "\n",
      "\n",
      "  0%|          | 0/12 [00:00<?, ?it/s]\u001b[A\u001b[A\u001b[A"
     ]
    },
    {
     "name": "stdout",
     "output_type": "stream",
     "text": [
      "python3 ./train_single_script.py -model MLP -optim ADAM -loss_fn L1LOSS -dataset /home/victor/datasets/VOC_FORMS_RGB_AEROPLANE -bs 32 -epochs 50 -device cuda -C 3 -W 224 -H 224 -id 2019-12-23_17-2-35 --sanity >> logs/out_2019-12-23_17-2-35.log\n"
     ]
    },
    {
     "name": "stderr",
     "output_type": "stream",
     "text": [
      "\n",
      "\n",
      "\n",
      "  8%|▊         | 1/12 [00:04<00:44,  4.08s/it]\u001b[A\u001b[A\u001b[A"
     ]
    },
    {
     "name": "stdout",
     "output_type": "stream",
     "text": [
      "python3 ./train_single_script.py -model MLP -optim SGD -loss_fn L1LOSS -dataset /home/victor/datasets/VOC_FORMS_RGB_AEROPLANE -bs 32 -epochs 50 -device cuda -C 3 -W 224 -H 224 -id 2019-12-23_17-2-35 --sanity >> logs/out_2019-12-23_17-2-35.log\n"
     ]
    },
    {
     "name": "stderr",
     "output_type": "stream",
     "text": [
      "\n",
      "\n",
      "\n",
      " 17%|█▋        | 2/12 [00:08<00:40,  4.09s/it]\u001b[A\u001b[A\u001b[A"
     ]
    },
    {
     "name": "stdout",
     "output_type": "stream",
     "text": [
      "python3 ./train_single_script.py -model SMALLER_MLP_2 -optim ADAM -loss_fn L1LOSS -dataset /home/victor/datasets/VOC_FORMS_RGB_AEROPLANE -bs 32 -epochs 50 -device cuda -C 3 -W 224 -H 224 -id 2019-12-23_17-2-35 --sanity >> logs/out_2019-12-23_17-2-35.log\n"
     ]
    },
    {
     "name": "stderr",
     "output_type": "stream",
     "text": [
      "\n",
      "\n",
      "\n",
      " 25%|██▌       | 3/12 [00:11<00:34,  3.87s/it]\u001b[A\u001b[A\u001b[A"
     ]
    },
    {
     "name": "stdout",
     "output_type": "stream",
     "text": [
      "python3 ./train_single_script.py -model SMALLER_MLP_2 -optim SGD -loss_fn L1LOSS -dataset /home/victor/datasets/VOC_FORMS_RGB_AEROPLANE -bs 32 -epochs 50 -device cuda -C 3 -W 224 -H 224 -id 2019-12-23_17-2-35 --sanity >> logs/out_2019-12-23_17-2-35.log\n"
     ]
    },
    {
     "name": "stderr",
     "output_type": "stream",
     "text": [
      "\n",
      "\n",
      "\n",
      " 33%|███▎      | 4/12 [00:14<00:29,  3.71s/it]\u001b[A\u001b[A\u001b[A"
     ]
    },
    {
     "name": "stdout",
     "output_type": "stream",
     "text": [
      "python3 ./train_single_script.py -model SMALLER_MLP_3 -optim ADAM -loss_fn L1LOSS -dataset /home/victor/datasets/VOC_FORMS_RGB_AEROPLANE -bs 32 -epochs 50 -device cuda -C 3 -W 224 -H 224 -id 2019-12-23_17-2-35 --sanity >> logs/out_2019-12-23_17-2-35.log\n"
     ]
    },
    {
     "name": "stderr",
     "output_type": "stream",
     "text": [
      "\n",
      "\n",
      "\n",
      " 42%|████▏     | 5/12 [00:18<00:25,  3.61s/it]\u001b[A\u001b[A\u001b[A"
     ]
    },
    {
     "name": "stdout",
     "output_type": "stream",
     "text": [
      "python3 ./train_single_script.py -model SMALLER_MLP_3 -optim SGD -loss_fn L1LOSS -dataset /home/victor/datasets/VOC_FORMS_RGB_AEROPLANE -bs 32 -epochs 50 -device cuda -C 3 -W 224 -H 224 -id 2019-12-23_17-2-35 --sanity >> logs/out_2019-12-23_17-2-35.log\n"
     ]
    },
    {
     "name": "stderr",
     "output_type": "stream",
     "text": [
      "\n",
      "\n",
      "\n",
      " 50%|█████     | 6/12 [00:21<00:21,  3.53s/it]\u001b[A\u001b[A\u001b[A"
     ]
    },
    {
     "name": "stdout",
     "output_type": "stream",
     "text": [
      "python3 ./train_single_script.py -model SMALLER_MLP_3_3 -optim ADAM -loss_fn L1LOSS -dataset /home/victor/datasets/VOC_FORMS_RGB_AEROPLANE -bs 32 -epochs 50 -device cuda -C 3 -W 224 -H 224 -id 2019-12-23_17-2-35 --sanity >> logs/out_2019-12-23_17-2-35.log\n"
     ]
    },
    {
     "name": "stderr",
     "output_type": "stream",
     "text": [
      "\n",
      "\n",
      "\n",
      " 58%|█████▊    | 7/12 [00:24<00:17,  3.48s/it]\u001b[A\u001b[A\u001b[A"
     ]
    },
    {
     "name": "stdout",
     "output_type": "stream",
     "text": [
      "python3 ./train_single_script.py -model SMALLER_MLP_3_3 -optim SGD -loss_fn L1LOSS -dataset /home/victor/datasets/VOC_FORMS_RGB_AEROPLANE -bs 32 -epochs 50 -device cuda -C 3 -W 224 -H 224 -id 2019-12-23_17-2-35 --sanity >> logs/out_2019-12-23_17-2-35.log\n"
     ]
    },
    {
     "name": "stderr",
     "output_type": "stream",
     "text": [
      "\n",
      "\n",
      "\n",
      " 67%|██████▋   | 8/12 [00:28<00:13,  3.46s/it]\u001b[A\u001b[A\u001b[A"
     ]
    },
    {
     "name": "stdout",
     "output_type": "stream",
     "text": [
      "python3 ./train_single_script.py -model PERCEPTRON -optim ADAM -loss_fn L1LOSS -dataset /home/victor/datasets/VOC_FORMS_RGB_AEROPLANE -bs 32 -epochs 50 -device cuda -C 3 -W 224 -H 224 -id 2019-12-23_17-2-35 --sanity >> logs/out_2019-12-23_17-2-35.log\n"
     ]
    },
    {
     "name": "stderr",
     "output_type": "stream",
     "text": [
      "\n",
      "\n",
      "\n",
      " 75%|███████▌  | 9/12 [00:31<00:10,  3.44s/it]\u001b[A\u001b[A\u001b[A"
     ]
    },
    {
     "name": "stdout",
     "output_type": "stream",
     "text": [
      "python3 ./train_single_script.py -model PERCEPTRON -optim SGD -loss_fn L1LOSS -dataset /home/victor/datasets/VOC_FORMS_RGB_AEROPLANE -bs 32 -epochs 50 -device cuda -C 3 -W 224 -H 224 -id 2019-12-23_17-2-35 --sanity >> logs/out_2019-12-23_17-2-35.log\n"
     ]
    },
    {
     "name": "stderr",
     "output_type": "stream",
     "text": [
      "\n",
      "\n",
      "\n",
      " 83%|████████▎ | 10/12 [00:35<00:06,  3.42s/it]\u001b[A\u001b[A\u001b[A"
     ]
    },
    {
     "name": "stdout",
     "output_type": "stream",
     "text": [
      "python3 ./train_single_script.py -model RESNET_34 -optim ADAM -loss_fn L1LOSS -dataset /home/victor/datasets/VOC_FORMS_RGB_AEROPLANE -bs 32 -epochs 50 -device cuda -C 3 -W 224 -H 224 -id 2019-12-23_17-2-35 --sanity >> logs/out_2019-12-23_17-2-35.log\n"
     ]
    },
    {
     "name": "stderr",
     "output_type": "stream",
     "text": [
      "\n",
      "\n",
      "\n",
      " 92%|█████████▏| 11/12 [00:39<00:03,  3.81s/it]\u001b[A\u001b[A\u001b[A"
     ]
    },
    {
     "name": "stdout",
     "output_type": "stream",
     "text": [
      "python3 ./train_single_script.py -model RESNET_34 -optim SGD -loss_fn L1LOSS -dataset /home/victor/datasets/VOC_FORMS_RGB_AEROPLANE -bs 32 -epochs 50 -device cuda -C 3 -W 224 -H 224 -id 2019-12-23_17-2-35 --sanity >> logs/out_2019-12-23_17-2-35.log\n"
     ]
    },
    {
     "name": "stderr",
     "output_type": "stream",
     "text": [
      "\n",
      "\n",
      "\n",
      "100%|██████████| 12/12 [00:44<00:00,  3.71s/it]\u001b[A\u001b[A\u001b[A\n",
      "\n",
      "\n",
      "100%|██████████| 2/2 [01:29<00:00, 44.52s/it]\u001b[A\u001b[A"
     ]
    },
    {
     "name": "stdout",
     "output_type": "stream",
     "text": [
      "Sanity Check: All Passed!\n"
     ]
    },
    {
     "name": "stderr",
     "output_type": "stream",
     "text": [
      "\n"
     ]
    }
   ],
   "source": [
    "def grid_search(dts, rows, sanity):\n",
    "    if sanity: print(\"Performing sanity check...\")\n",
    "    else     : print(\"Training...\")\n",
    "    for dt in tqdm(dts):\n",
    "        for row in tqdm(rows):\n",
    "            command = (\n",
    "                f'python3 {TRAIN_SINGLE_PATH} ' + \n",
    "                create_arg_str({\n",
    "                    **BASE_ARGS,\n",
    "                    \"dataset\": dt,\n",
    "                    \"model\"  : row.model,\n",
    "                    \"optim\"  : row.opt,\n",
    "                    \"loss_fn\": row.loss,\n",
    "                    \"epochs\" : MAX_EPOCHS,\n",
    "                    \"sanity\" : sanity,\n",
    "                }) + f' >> logs/out_{CURR_TIME_STR}.log')\n",
    "            print(command)\n",
    "            status = os.system(command)\n",
    "            if status != 0: raise AssertionError(f'FAILED: {command}')\n",
    "    if sanity: print(\"Sanity Check: All Passed!\")\n",
    "    else     : print(\"Done Training!\")\n",
    "\n",
    "grid_search(DATASETS, grid, sanity=True)\n",
    "grid_search(DATASETS, grid, sanity=False)"
   ]
  },
  {
   "cell_type": "code",
   "execution_count": null,
   "metadata": {},
   "outputs": [],
   "source": []
  }
 ],
 "metadata": {
  "kernelspec": {
   "display_name": "Python 3",
   "language": "python",
   "name": "python3"
  },
  "language_info": {
   "codemirror_mode": {
    "name": "ipython",
    "version": 3
   },
   "file_extension": ".py",
   "mimetype": "text/x-python",
   "name": "python",
   "nbconvert_exporter": "python",
   "pygments_lexer": "ipython3",
   "version": "3.6.8"
  }
 },
 "nbformat": 4,
 "nbformat_minor": 4
}
